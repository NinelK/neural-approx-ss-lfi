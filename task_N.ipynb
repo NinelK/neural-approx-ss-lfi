{
 "cells": [
  {
   "cell_type": "markdown",
   "metadata": {},
   "source": [
    "## Import"
   ]
  },
  {
   "cell_type": "code",
   "execution_count": 1,
   "metadata": {},
   "outputs": [],
   "source": [
    "import os, sys, inspect, time\n",
    "\n",
    "import numpy as np\n",
    "import torch \n",
    "import matplotlib.pyplot as plt\n",
    "torch.multiprocessing.set_sharing_strategy('file_system')\n",
    "\n",
    "import discrepancy, visualization\n",
    "from algorithms import ABC_algorithms, TPABC, SMCABC, SMC2ABC, SNLABC, SNL2ABC\n",
    "import distributions \n",
    "import scipy.stats as stats\n",
    "\n",
    "import utils_os, utils_math\n",
    "\n",
    "%load_ext autoreload\n",
    "%autoreload 2"
   ]
  },
  {
   "cell_type": "markdown",
   "metadata": {},
   "source": [
    "## Problem Definition"
   ]
  },
  {
   "cell_type": "code",
   "execution_count": 129,
   "metadata": {},
   "outputs": [],
   "source": [
    "from problems.ABC_problems import ABC_Problem\n",
    "\n",
    "class Neuronal_Problem(ABC_Problem):\n",
    "    \n",
    "    def __init__(self, data, N=10000, n=100):\n",
    "        \n",
    "        assert N <= data['Y'].shape[0]\n",
    "        assert data['Y'].ndim == 2\n",
    "        assert data['X'].shape[0] == data['Y'].shape[0]\n",
    "        \n",
    "        self.N = N # number of posterior samples\n",
    "        self.n = n # length of the data vector x = {x_1, ..., x_n} # makes sense to make it ~num_trials\n",
    "#         self.d = 5 # this argument is ignored... set hidden_ratio instead. most likely it's dims of sufficient statistics: d=2K\n",
    "        self.prior_args = np.array([[0,1]]) # these are bounds on theta (on X in our case: [0,1])\n",
    "        \n",
    "        self.all_thetas = data['X']\n",
    "        self.sim_accuracy = 5 # number of digits after a decimal point for theta\n",
    "        self.sim = {np.round(data['X'][i],self.sim_accuracy): data['Y'][i] for i in range(data['X'].shape[0])} #here we use all!\n",
    "        self.K = 1 # number of thetas\n",
    "        self.stat = 'raw' # raw means that sufficient statistics is unknown (I guess). y_obs = data_obs\n",
    "        self.window = 2/160 # cm / 160cm\n",
    "        \n",
    "        self.data_obs = data['Y'] #important that first dim=N & y_dim = product of these dims\n",
    "        # y_obs is calculated from these data as y=statistics(data). \n",
    "        # note that y_obs is a argument of a Algorithm class, not Problem (¯\\_(ツ)_/¯)\n",
    "       \n",
    "    def get_true_theta(self):\n",
    "        pass # does not matter, as the result goes into 'statistics', where theta is currently not used\n",
    "\n",
    "    def sample_from_prior(self, size=1):\n",
    "        return np.random.choice(self.all_thetas,size=size,replace=True) # just 1 sample\n",
    "    \n",
    "    # original code samples only 1 theta in each simulation -> generates n x-es -> \n",
    "    # calculates statistics for them (1 vector for 1 theta) -> repeats ~1000 times sequentially (!)\n",
    "    def simulator(self, theta):\n",
    "        assert theta.size==1 # input = array with 1 element\n",
    "        y = np.empty((self.n,self.data_obs.shape[1])) \n",
    "        for i in range(self.n): \n",
    "            t = np.round((theta[0] + (np.random.rand()-0.5)*self.window)%1,self.sim_accuracy) # add jitter, to sample from the neighbouring locations\n",
    "            if t in self.sim:\n",
    "                y[i] = self.sim[t]\n",
    "            else: # this part is used for newly-generated samples; let's take the Y=Y(closest X).\n",
    "                discr = np.min(np.array([1-np.abs(self.all_thetas - t),np.abs(self.all_thetas - t)])%1,axis=0) # get distances\n",
    "                y[i] = self.sim[np.round(self.all_thetas[np.argmin(discr)],self.sim_accuracy)] # take the closest\n",
    "        return y # self.n x number of dimensions in data\n",
    "\n",
    "    # B. correlation between latent\n",
    "    def _ss_corr(self, Z):\n",
    "        V = np.mat(Z).T * np.mat(Z) / Z.shape[0]\n",
    "        (d,d) = V.shape\n",
    "        upper_tri_elements = V[np.triu_indices(d, k=1)]\n",
    "        stat = np.array(upper_tri_elements)\n",
    "        return stat\n",
    "    \n",
    "    def statistics(self, data, theta=None):\n",
    "        if self.stat == 'raw':\n",
    "            # (correlation) as summary statistics (NO MARGINALS in these data)\n",
    "            stat = self._ss_corr(data)\n",
    "            return stat\n",
    "        else:\n",
    "            raise NotImplementedError('No ground truth statistics')"
   ]
  },
  {
   "cell_type": "code",
   "execution_count": 130,
   "metadata": {},
   "outputs": [
    {
     "data": {
      "text/plain": [
       "160.0349829889274"
      ]
     },
     "execution_count": 130,
     "metadata": {},
     "output_type": "execute_result"
    }
   ],
   "source": [
    "path = f'../CopulaGP/plos_fig5_data/'\n",
    "exp_pref = 'ST260_Day1'\n",
    "with open(f\"{path}/{exp_pref}_signals.pkl\",'rb') as f:\n",
    "    signal_pkl = pkl.load(f)\n",
    "with open(f\"{path}/{exp_pref}_behaviour.pkl\",'rb') as f:\n",
    "    behaviour_pkl = pkl.load(f)\n",
    "behaviour_pkl['position'].max()"
   ]
  },
  {
   "cell_type": "code",
   "execution_count": 131,
   "metadata": {},
   "outputs": [
    {
     "name": "stdout",
     "output_type": "stream",
     "text": [
      "(21471,)\n",
      "(21471, 109)\n"
     ]
    }
   ],
   "source": [
    "import pickle as pkl\n",
    "with open(f'/home/nina/CopulaGP/plos_fig5_data/{exp_pref}_Dataset.pkl',\"rb\") as f:\n",
    "    data = pkl.load(f)\n",
    "    \n",
    "Nvar = 109 # taking the first N variables here\n",
    "# data['Y'] = signal_pkl['signals_fissa'].T[:,:Nvar] \n",
    "# pos = (behaviour_pkl['position']%160)/160\n",
    "# vel = (behaviour_pkl['velocity']-np.min(behaviour_pkl['velocity']))/np.ptp(behaviour_pkl['velocity'])\n",
    "# data['X'] = vel#np.vstack([pos,vel]).T\n",
    "print(data['X'].shape)\n",
    "print(data['Y'].shape) # samples x neuronal/behavioral variables\n",
    "    \n",
    "problem = Neuronal_Problem(data)\n",
    "\n",
    "DIR = 'results/Neuronal' "
   ]
  },
  {
   "cell_type": "code",
   "execution_count": 132,
   "metadata": {},
   "outputs": [],
   "source": [
    "### Sequential Neural Likelihood + \n",
    "hyperparams = ABC_algorithms.Hyperparams()\n",
    "hyperparams.save_dir = DIR\n",
    "hyperparams.device = 'cuda:0'\n",
    "hyperparams.num_sim = 1000                        # number of simulations\n",
    "hyperparams.L = 5                                # number of learning rounds\n",
    "hyperparams.hidden_ratio = 0.001                 # dimensionality of S(x)\n",
    "hyperparams.type = 'plain'                       # the network architecture of S(x), use CNN here\n",
    "hyperparams.estimator = 'DV'                    # MI estimator; JSD or DC, see the paper\n",
    "# 'DV' = proper MINE from Belghazi 2018\n",
    "hyperparams.nde = 'MAF'                          # nde; MAF (D>1) or MDN (D=1) # looks like D here is in fact K\n",
    "\n",
    "snl2_abc = SNL2ABC.SNL2_ABC(problem, discrepancy=discrepancy.eculidean_dist, hyperparams=hyperparams)\n"
   ]
  },
  {
   "cell_type": "code",
   "execution_count": null,
   "metadata": {
    "scrolled": true
   },
   "outputs": [
    {
     "name": "stdout",
     "output_type": "stream",
     "text": [
      "iteration  0\n",
      "# of cpus =  4\n",
      "[ABC] sub-process start!\n",
      "[ABC] sub-process start!\n",
      "[sampling] finished sampling  10\n",
      "[ABC] sub-process start!\n",
      "[ABC] sub-process start!\n",
      "[sampling] finished sampling  20\n",
      "[sampling] finished sampling  30\n",
      "[sampling] finished sampling  40\n",
      "\n",
      " > fitting encoder\n",
      "summary statistic dim = 5 original dim = 5886\n",
      "architecture [5886, 100, 100, 5]\n",
      "validation size= 0.8\n",
      "finished: t= 0 loss= -1.1764466762542725e-05 loss val= 6.46635890007019e-05 time= 0.11564302444458008\n",
      "finished: t= 50 loss= -0.0014437735080718994 loss val= -0.0005797594785690308 time= 0.10514211654663086\n",
      "finished: t= 100 loss= -0.005357794463634491 loss val= -0.0034514889121055603 time= 0.1013345718383789\n",
      "finished: t= 150 loss= -0.02083674818277359 loss val= -0.014330737292766571 time= 0.10397696495056152\n",
      "finished: t= 200 loss= -0.08808647096157074 loss val= -0.06381376832723618 time= 0.10376858711242676\n",
      "finished: t= 250 loss= -0.27227601408958435 loss val= -0.20216256380081177 time= 0.10889315605163574\n",
      "finished: t= 300 loss= -0.48035457730293274 loss val= -0.33881068229675293 time= 0.10968875885009766\n",
      "finished: t= 350 loss= -0.6004775762557983 loss val= -0.42076510190963745 time= 0.10792851448059082\n",
      "finished: t= 400 loss= -0.7173688411712646 loss val= -0.4708459973335266 time= 0.10518622398376465\n",
      "finished: t= 450 loss= -0.8000839352607727 loss val= -0.46882134675979614 time= 0.09746861457824707\n",
      "finished: t= 500 loss= -0.8869413733482361 loss val= -0.47874200344085693 time= 0.08938479423522949\n",
      "finished: t= 550 loss= -0.9597681164741516 loss val= -0.4672018885612488 time= 0.10105729103088379\n",
      "finished: t= 600 loss= -1.0471491813659668 loss val= -0.46129268407821655 time= 0.11018514633178711\n",
      "best val loss= -0.4942557215690613\n",
      "\n",
      " > fitting nde\n",
      "all_stats.size() torch.Size([200, 5])\n",
      "finished: t= 0 loss= 10.163985252380371 loss val= 8.366156578063965\n",
      "best val loss= -11.56094741821289\n",
      "\n",
      "\n",
      "iteration  1\n",
      "# of cpus =  4\n",
      "[ABC] sub-process start!\n",
      "[ABC] sub-process start!\n",
      "[sampling] finished sampling  10\n",
      "[ABC] sub-process start!\n",
      "[ABC] sub-process start!\n",
      "[sampling] finished sampling  20\n",
      "[sampling] finished sampling  30\n",
      "[sampling] finished sampling  40\n"
     ]
    }
   ],
   "source": [
    "snl2_abc.run()\n"
   ]
  },
  {
   "cell_type": "code",
   "execution_count": 110,
   "metadata": {},
   "outputs": [
    {
     "data": {
      "text/plain": [
       "(array([ 93.,  67.,  58.,  67.,  84.,  79.,  83., 106., 253., 110.]),\n",
       " array([4.52359876e-05, 1.00039575e-01, 2.00033914e-01, 3.00028253e-01,\n",
       "        4.00022593e-01, 5.00016932e-01, 6.00011271e-01, 7.00005610e-01,\n",
       "        7.99999949e-01, 8.99994288e-01, 9.99988628e-01]),\n",
       " <a list of 10 Patch objects>)"
      ]
     },
     "execution_count": 110,
     "metadata": {},
     "output_type": "execute_result"
    },
    {
     "data": {
      "image/png": "[encoded data removed]",
      "text/plain": [
       "<matplotlib.figure.Figure at 0x7f097d33b240>"
      ]
     },
     "metadata": {
      "needs_background": "light"
     },
     "output_type": "display_data"
    }
   ],
   "source": [
    "# let us check that the prior did not collapse \n",
    "theta = np.empty(1000)\n",
    "for i in range(len(theta)): \n",
    "    theta[i] = snl2_abc.prior()\n",
    "plt.xlim([0,1])\n",
    "plt.hist(theta)"
   ]
  },
  {
   "cell_type": "code",
   "execution_count": 111,
   "metadata": {},
   "outputs": [],
   "source": [
    "# visualize latents s(x)\n",
    "nbins=100\n",
    "stats2plot = []\n",
    "data2plot = []\n",
    "summary2plot = []\n",
    "for i in range(nbins):\n",
    "    mask = (data['X']>i/nbins) & (data['X']<=(i+1)/nbins)\n",
    "    get_stat = snl2_abc.convert_stat(snl2_abc.problem.statistics(data['Y'][mask]))\n",
    "    stats2plot.append(get_stat)\n",
    "    data2plot.append(data['Y'][mask].mean(0))\n",
    "    summary2plot.append(snl2_abc.problem.statistics(data['Y'][mask]))\n",
    "# np.array(stats2plot).shape\n",
    "from sklearn.manifold import TSNE, SpectralEmbedding\n",
    "from sklearn.decomposition import PCA\n",
    "latent_PCA = PCA(n_components=2).fit_transform(np.array(stats2plot).squeeze())\n",
    "latent_TSNE = TSNE(n_components=2).fit_transform(np.array(stats2plot).squeeze())\n",
    "latent_LEM = SpectralEmbedding(n_components=2).fit_transform(np.array(stats2plot).squeeze())\n",
    "\n",
    "\n",
    "summary_PCA = PCA(n_components=2).fit_transform(np.array(summary2plot).squeeze())\n",
    "summary_TSNE = TSNE(n_components=2).fit_transform(np.array(summary2plot).squeeze())\n",
    "summary_LEM = SpectralEmbedding(n_components=2).fit_transform(np.array(summary2plot).squeeze())\n",
    "\n",
    "\n",
    "data_PCA = PCA(n_components=2).fit_transform(np.array(data2plot).squeeze())\n",
    "data_TSNE = TSNE(n_components=2).fit_transform(np.array(data2plot).squeeze())\n",
    "data_LEM = SpectralEmbedding(n_components=2).fit_transform(np.array(data2plot).squeeze())\n",
    "\n",
    "# latent_TSNE = TSNE(n_components=2).fit_transform(np.array(stats2plot).squeeze())\n",
    "\n"
   ]
  },
  {
   "cell_type": "code",
   "execution_count": 127,
   "metadata": {},
   "outputs": [
    {
     "data": {
      "text/plain": [
       "Text(0.32,0.26,'Binned data')"
      ]
     },
     "execution_count": 127,
     "metadata": {},
     "output_type": "execute_result"
    },
    {
     "data": {
      "image/png": "[encoded data removed]",
      "text/plain": [
       "<matplotlib.figure.Figure at 0x7f09803b7ef0>"
      ]
     },
     "metadata": {
      "needs_background": "light"
     },
     "output_type": "display_data"
    }
   ],
   "source": [
    "import matplotlib.cm as cm\n",
    "fig = plt.figure(figsize=(7,6))\n",
    "\n",
    "# fig.add_axes([0,0,1,1])\n",
    "\n",
    "\n",
    "ax = [fig.add_axes([0.05,0,0.2,0.25]),\n",
    "      fig.add_axes([0.3,0,0.2,0.25]),\n",
    "      fig.add_axes([0.55,0,0.2,0.25]),\n",
    "     fig.add_axes([0.05,0.35,0.2,0.25]),\n",
    "     fig.add_axes([0.3,0.35,0.2,0.25]),\n",
    "      fig.add_axes([0.55,0.35,0.2,0.25]),\n",
    "     fig.add_axes([0.05,0.7,0.2,0.25]),\n",
    "     fig.add_axes([0.3,0.7,0.2,0.25]),\n",
    "      fig.add_axes([0.55,0.7,0.2,0.25]),\n",
    "     fig.add_axes([0.85,0.3,0.1,0.4]),]\n",
    "\n",
    "ax[0].scatter(*data_PCA.T,color=cm.rainbow(np.linspace(0,1,nbins)),s=5)\n",
    "ax[1].scatter(*data_TSNE.T,color=cm.rainbow(np.linspace(0,1,nbins)),s=5)\n",
    "ax[2].scatter(*data_LEM.T,color=cm.rainbow(np.linspace(0,1,nbins)),s=5)\n",
    "\n",
    "ax[3].scatter(*summary_PCA.T,color=cm.rainbow(np.linspace(0,1,nbins)),s=5)\n",
    "ax[4].scatter(*summary_TSNE.T,color=cm.rainbow(np.linspace(0,1,nbins)),s=5)\n",
    "ax[5].scatter(*summary_LEM.T,color=cm.rainbow(np.linspace(0,1,nbins)),s=5)\n",
    "\n",
    "ax[6].scatter(*latent_PCA.T,color=cm.rainbow(np.linspace(0,1,nbins)),s=5)\n",
    "ax[7].scatter(*latent_TSNE.T,color=cm.rainbow(np.linspace(0,1,nbins)),s=5)\n",
    "ax[8].scatter(*latent_LEM.T,color=cm.rainbow(np.linspace(0,1,nbins)),s=5)\n",
    "\n",
    "for a in [ax[0],ax[3],ax[6]]:\n",
    "    a.set_xlabel('PCA 1')\n",
    "    a.set_ylabel('PCA 2')\n",
    "    \n",
    "for a in [ax[1],ax[4],ax[7]]:\n",
    "    a.set_xlabel('t-SNE 1')\n",
    "    a.set_ylabel('t-SNE 2')\n",
    "    \n",
    "for a in [ax[2],ax[5],ax[8]]:\n",
    "    a.set_xlabel('L-eigen 1')\n",
    "    a.set_ylabel('L-eigen 2')\n",
    "    \n",
    "for a in ax[:-1]:\n",
    "    a.set_xticks([])\n",
    "    a.set_yticks([])\n",
    "    \n",
    "ax[9].imshow(np.repeat(np.linspace(0,1,160).reshape(1,-1),10,axis=0).T,cmap=cm.rainbow)\n",
    "ax[9].set_ylabel(\"Position in VR, cm\")\n",
    "\n",
    "fig.text(0.27,0.96,'Sufficient statistics',fontsize=14)\n",
    "fig.text(0.27,0.61,'Summary statistics',fontsize=14)\n",
    "fig.text(0.32,0.26,'Binned data',fontsize=14)\n",
    "\n",
    "# help(plt.imshow)\n",
    "# plt.scatter(*X_embedded[int(nbins*20/160):int(nbins*60/160)].T,marker='x',color='k') #late part of the corridor marked"
   ]
  },
  {
   "cell_type": "code",
   "execution_count": 113,
   "metadata": {},
   "outputs": [],
   "source": [
    "t = int(time.time())\n",
    "with open(f\"{DIR}/trained_dF-vs-pos_n={Nvar}-L={hyperparams.L}-hr={hyperparams.hidden_ratio}-type={hyperparams.type}-est={hyperparams.estimator}-nde={hyperparams.nde}_{t}.pkl\",\"wb\") as f:\n",
    "    pkl.dump(snl2_abc,f)"
   ]
  },
  {
   "cell_type": "code",
   "execution_count": 114,
   "metadata": {},
   "outputs": [
    {
     "name": "stdout",
     "output_type": "stream",
     "text": [
      "torch.Size([1000, 1])\n"
     ]
    },
    {
     "data": {
      "text/plain": [
       "tensor(4.4947, grad_fn=<DivBackward0>)"
      ]
     },
     "execution_count": 114,
     "metadata": {},
     "output_type": "execute_result"
    }
   ],
   "source": [
    "# calculate MI using all generated subsamples\n",
    "snl2_abc.vae_net.estimator = 'DV' \n",
    "all_stats = torch.tensor(np.vstack(snl2_abc.all_stats[0:snl2_abc.l+1])).float()\n",
    "all_samples = torch.tensor(np.vstack(snl2_abc.all_samples[0:snl2_abc.l+1])).float()\n",
    "print(all_samples.shape)\n",
    "snl2_abc.vae_net.MI(all_stats,all_samples,n=100)/np.log(2) # n here is the number of shuffles"
   ]
  },
  {
   "cell_type": "code",
   "execution_count": 109,
   "metadata": {},
   "outputs": [
    {
     "name": "stdout",
     "output_type": "stream",
     "text": [
      "torch.Size([200, 1])\n"
     ]
    },
    {
     "data": {
      "text/plain": [
       "tensor(4.4443, grad_fn=<DivBackward0>)"
      ]
     },
     "execution_count": 109,
     "metadata": {},
     "output_type": "execute_result"
    }
   ],
   "source": [
    "# calculate MI using the last generated subsamples\n",
    "all_stats = torch.tensor(np.vstack(snl2_abc.all_stats[snl2_abc.l:snl2_abc.l+1])).float()\n",
    "all_samples = torch.tensor(np.vstack(snl2_abc.all_samples[snl2_abc.l:snl2_abc.l+1])).float()\n",
    "print(all_samples.shape)\n",
    "snl2_abc.vae_net.MI(all_stats,all_samples,n=100)/np.log(2) # n here is the number of shuffles"
   ]
  },
  {
   "cell_type": "markdown",
   "metadata": {},
   "source": [
    "# MINE for comparison"
   ]
  },
  {
   "cell_type": "code",
   "execution_count": 19,
   "metadata": {},
   "outputs": [],
   "source": [
    "from mine import train_MINE # load another implementation, the one I used for PLoS"
   ]
  },
  {
   "cell_type": "code",
   "execution_count": 20,
   "metadata": {},
   "outputs": [
    {
     "data": {
      "text/plain": [
       "1.1467523687724428"
      ]
     },
     "execution_count": 20,
     "metadata": {},
     "output_type": "execute_result"
    }
   ],
   "source": [
    "train_MINE(data['Y'][:,:Nvar], x=torch.tensor(data['X'][:]).float(), \n",
    "           H=500, lr=0.01, batches=1, n_epoch=2000, device = torch.device(\"cuda:0\"))/np.log(2)"
   ]
  },
  {
   "cell_type": "code",
   "execution_count": null,
   "metadata": {},
   "outputs": [],
   "source": []
  }
 ],
 "metadata": {
  "kernelspec": {
   "display_name": "Python 3",
   "language": "python",
   "name": "python3"
  },
  "language_info": {
   "codemirror_mode": {
    "name": "ipython",
    "version": 3
   },
   "file_extension": ".py",
   "mimetype": "text/x-python",
   "name": "python",
   "nbconvert_exporter": "python",
   "pygments_lexer": "ipython3",
   "version": "3.6.9"
  }
 },
 "nbformat": 4,
 "nbformat_minor": 4
}
