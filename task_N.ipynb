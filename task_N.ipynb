{
 "cells": [
  {
   "cell_type": "markdown",
   "metadata": {},
   "source": [
    "## Import"
   ]
  },
  {
   "cell_type": "code",
   "execution_count": 1,
   "metadata": {},
   "outputs": [],
   "source": [
    "import os, sys, inspect, time\n",
    "\n",
    "import numpy as np\n",
    "import torch \n",
    "import matplotlib.pyplot as plt\n",
    "torch.multiprocessing.set_sharing_strategy('file_system')\n",
    "\n",
    "import discrepancy, visualization\n",
    "from algorithms import ABC_algorithms, TPABC, SMCABC, SMC2ABC, SNLABC, SNL2ABC\n",
    "import distributions \n",
    "import scipy.stats as stats\n",
    "\n",
    "import utils_os, utils_math\n",
    "\n",
    "%load_ext autoreload\n",
    "%autoreload 2"
   ]
  },
  {
   "cell_type": "markdown",
   "metadata": {},
   "source": [
    "## Problem Definition"
   ]
  },
  {
   "cell_type": "code",
   "execution_count": 56,
   "metadata": {},
   "outputs": [],
   "source": [
    "from problems.ABC_problems import ABC_Problem\n",
    "\n",
    "class Neuronal_Problem(ABC_Problem):\n",
    "    \n",
    "    def __init__(self, data, N=100, n=100):\n",
    "        \n",
    "        assert N <= data['Y'].shape[0]\n",
    "        assert data['Y'].ndim == 2\n",
    "        assert data['X'].shape[0] == data['Y'].shape[0]\n",
    "        \n",
    "        self.N = N # number of posterior samples\n",
    "        self.n = n # length of the data vector x = {x_1, ..., x_n} # makes sense to make it ~num_trials\n",
    "#         self.d = 5 # this argument is ignored... set hidden_ratio instead. most likely it's dims of sufficient statistics: d=2K\n",
    "        self.prior_args = np.array([[0,1]]) # these are bounds on theta (on X in our case: [0,1])\n",
    "        \n",
    "        self.all_thetas = data['X']\n",
    "        self.sim_accuracy = 5 # number of digits after a decimal point for theta\n",
    "        self.sim = {np.round(data['X'][i],self.sim_accuracy): data['Y'][i] for i in range(data['X'].shape[0])} #here we use all!\n",
    "        self.K = 1 # number of thetas\n",
    "        self.stat = 'raw' # raw means that sufficient statistics is unknown (I guess). y_obs = data_obs\n",
    "        \n",
    "        self.data_obs = data['Y'] #important that first dim=N & y_dim = product of these dims\n",
    "        # y_obs is calculated from these data as y=statistics(data). \n",
    "        # note that y_obs is a argument of a Algorithm class, not Problem (¯\\_(ツ)_/¯)\n",
    "        \n",
    "        self.is_batch_sampling_supported = False # (unfinished feature, so keep False for now) speed up rejection sampling\n",
    "    \n",
    "    def get_true_theta(self):\n",
    "        pass # does not matter, as the result goes into 'statistics', where theta is currently not used\n",
    "\n",
    "    def sample_from_prior(self, size=1):\n",
    "        return np.random.choice(self.all_thetas,size=size,replace=True) # just 1 sample\n",
    "    \n",
    "    # original code samples only 1 theta in each simulation -> generates n x-es -> \n",
    "    # calculates statistics for them (1 vector for 1 theta) -> repeats ~1000 times sequentially (!)\n",
    "    def simulator(self, theta):\n",
    "        assert theta.size==1 # input = array with 1 element\n",
    "        y = np.empty((self.n,self.data_obs.shape[1])) \n",
    "        for i in range(self.n): \n",
    "            t = np.round(theta[0] + (np.random.rand()-0.5)*0.002,self.sim_accuracy) # add jitter, to sample from the neighbouring locations\n",
    "            if t in self.sim:\n",
    "                y[i] = self.sim[t]\n",
    "            else: # this part is used for newly-generated samples; let's take the Y=Y(closest X).\n",
    "                discr = np.min(np.array([1-np.abs(self.all_thetas - t),np.abs(self.all_thetas - t)])%1,axis=0) # get distances\n",
    "                y[i] = self.sim[np.round(self.all_thetas[np.argmin(discr)],self.sim_accuracy)] # take the closest\n",
    "        return y # self.n x number of dimensions in data\n",
    "\n",
    "    # B. correlation between latent\n",
    "    def _ss_corr(self, Z):\n",
    "        V = np.mat(Z).T * np.mat(Z) / Z.shape[0]\n",
    "        (d,d) = V.shape\n",
    "        upper_tri_elements = V[np.triu_indices(d, k=1)]\n",
    "        stat = np.array(upper_tri_elements)\n",
    "        return stat\n",
    "    \n",
    "    def statistics(self, data, theta=None):\n",
    "        if self.stat == 'raw':\n",
    "            # (correlation) as summary statistics (NO MARGINALS in these data)\n",
    "            stat = self._ss_corr(data)\n",
    "            return stat\n",
    "        else:\n",
    "            raise NotImplementedError('No ground truth statistics')"
   ]
  },
  {
   "cell_type": "code",
   "execution_count": 57,
   "metadata": {},
   "outputs": [
    {
     "name": "stdout",
     "output_type": "stream",
     "text": [
      "(21471, 109)\n"
     ]
    }
   ],
   "source": [
    "import pickle as pkl\n",
    "with open(f'/home/nina/CopulaGP/plos_fig5_data/ST260_Day1_Dataset.pkl',\"rb\") as f:\n",
    "    data = pkl.load(f)\n",
    "    \n",
    "Nvar = 109 # taking the first N variables here\n",
    "data['Y'] = data['Y'][:,:Nvar] \n",
    "print(data['Y'].shape) # samples x neuronal/behavioral variables\n",
    "    \n",
    "problem = Neuronal_Problem(data)\n",
    "\n",
    "DIR = 'results/Neuronal' "
   ]
  },
  {
   "cell_type": "code",
   "execution_count": 58,
   "metadata": {},
   "outputs": [],
   "source": [
    "### Sequential Neural Likelihood + \n",
    "hyperparams = ABC_algorithms.Hyperparams()\n",
    "hyperparams.save_dir = DIR\n",
    "hyperparams.device = 'cuda:0'\n",
    "hyperparams.num_sim = 1000                        # number of simulations\n",
    "hyperparams.L = 5                                # number of learning rounds\n",
    "hyperparams.hidden_ratio = 0.001                 # dimensionality of S(x)\n",
    "hyperparams.type = 'plain'                       # the network architecture of S(x), use CNN here\n",
    "hyperparams.estimator = 'DV'                    # MI estimator; JSD or DC, see the paper\n",
    "# 'DV' = proper MINE from Belghazi 2018\n",
    "hyperparams.nde = 'MAF'                          # nde; MAF (D>1) or MDN (D=1) # looks like D here is in fact K\n",
    "\n",
    "snl2_abc = SNL2ABC.SNL2_ABC(problem, discrepancy=discrepancy.eculidean_dist, hyperparams=hyperparams)\n"
   ]
  },
  {
   "cell_type": "code",
   "execution_count": 59,
   "metadata": {
    "scrolled": true
   },
   "outputs": [
    {
     "name": "stdout",
     "output_type": "stream",
     "text": [
      "iteration  0\n",
      "# of cpus =  4\n",
      "[ABC] sub-process start!\n",
      "[ABC] sub-process start!\n",
      "[sampling] finished sampling  10\n",
      "[ABC] sub-process start!\n",
      "[sampling] finished sampling  20\n",
      "[ABC] sub-process start!\n",
      "[sampling] finished sampling  30\n",
      "[sampling] finished sampling  40\n",
      "\n",
      " > fitting encoder\n",
      "summary statistic dim = 5 original dim = 5886\n",
      "architecture [5886, 100, 100, 5]\n",
      "validation size= 0.8\n",
      "finished: t= 0 loss= 1.576542854309082e-05 loss val= 2.1457672119140625e-05 time= 0.07285737991333008\n",
      "finished: t= 50 loss= 3.933906555175781e-06 loss val= 1.9632279872894287e-05 time= 0.05890822410583496\n",
      "finished: t= 100 loss= 1.4156103134155273e-07 loss val= 2.2351741790771484e-07 time= 0.062307119369506836\n",
      "finished: t= 150 loss= 4.470348358154297e-08 loss val= 1.6391277313232422e-07 time= 0.06525778770446777\n",
      "finished: t= 200 loss= -5.21540641784668e-08 loss val= 1.9371509552001953e-07 time= 0.05819964408874512\n",
      "best val loss= -7.428228855133057e-06\n",
      "\n",
      " > fitting nde\n",
      "all_stats.size() torch.Size([200, 5])\n",
      "finished: t= 0 loss= 15.581746101379395 loss val= 13.693570137023926\n",
      "best val loss= -13.609440803527832\n",
      "\n",
      " > fitting proposal\n",
      "mu= [[0.7008729]]\n",
      "cov= [[0.044227]]\n",
      "\n",
      "\n",
      "iteration  1\n",
      "# of cpus =  4\n",
      "[ABC] sub-process start!\n",
      "[ABC] sub-process start!\n",
      "[sampling] finished sampling  10\n",
      "[ABC] sub-process start!\n",
      "[sampling] finished sampling  20\n",
      "[ABC] sub-process start!\n",
      "[sampling] finished sampling  30\n",
      "[sampling] finished sampling  40\n",
      "\n",
      " > fitting encoder\n",
      "summary statistic dim = 5 original dim = 5886\n",
      "architecture [5886, 100, 100, 5]\n",
      "validation size= 0.8\n",
      "finished: t= 0 loss= 2.2798776626586914e-06 loss val= 9.685754776000977e-07 time= 0.13407444953918457\n",
      "finished: t= 50 loss= -0.0010225921869277954 loss val= -0.001021161675453186 time= 0.10619449615478516\n",
      "finished: t= 100 loss= -0.007147371768951416 loss val= -0.005807593464851379 time= 0.10937881469726562\n",
      "finished: t= 150 loss= -0.04146289825439453 loss val= -0.03422863781452179 time= 0.10942554473876953\n",
      "finished: t= 200 loss= -0.1877286732196808 loss val= -0.15166139602661133 time= 0.10783529281616211\n",
      "finished: t= 250 loss= -0.389910489320755 loss val= -0.30896320939064026 time= 0.11322617530822754\n",
      "finished: t= 300 loss= -0.5236263871192932 loss val= -0.44380518794059753 time= 0.1112062931060791\n",
      "finished: t= 350 loss= -0.6495716571807861 loss val= -0.567838191986084 time= 0.10618042945861816\n",
      "finished: t= 400 loss= -0.7929069995880127 loss val= -0.6817163228988647 time= 0.10756349563598633\n",
      "finished: t= 450 loss= -0.904011070728302 loss val= -0.7756507992744446 time= 0.10297489166259766\n",
      "finished: t= 500 loss= -0.9790541529655457 loss val= -0.873100221157074 time= 0.11391329765319824\n",
      "finished: t= 550 loss= -1.0868886709213257 loss val= -0.9347927570343018 time= 0.11000943183898926\n",
      "finished: t= 600 loss= -1.1723377704620361 loss val= -0.99004727602005 time= 0.11194086074829102\n",
      "finished: t= 650 loss= -1.2236757278442383 loss val= -1.0487282276153564 time= 0.10630631446838379\n",
      "finished: t= 700 loss= -1.319109320640564 loss val= -1.0684407949447632 time= 0.10822415351867676\n",
      "finished: t= 750 loss= -1.3541651964187622 loss val= -1.086144208908081 time= 0.1009221076965332\n",
      "finished: t= 800 loss= -1.415785789489746 loss val= -1.1207387447357178 time= 0.10352706909179688\n",
      "finished: t= 850 loss= -1.4606883525848389 loss val= -1.0995216369628906 time= 0.11282539367675781\n",
      "finished: t= 900 loss= -1.463993787765503 loss val= -1.1286393404006958 time= 0.11363840103149414\n",
      "finished: t= 950 loss= -1.5333019495010376 loss val= -1.1476069688796997 time= 0.11028599739074707\n",
      "finished: t= 1000 loss= -1.5608340501785278 loss val= -1.1814064979553223 time= 0.10518145561218262\n",
      "finished: t= 1050 loss= -1.5652296543121338 loss val= -1.0832586288452148 time= 0.10990238189697266\n",
      "finished: t= 1100 loss= -1.6313332319259644 loss val= -1.1522877216339111 time= 0.11113238334655762\n",
      "finished: t= 1150 loss= -1.669445276260376 loss val= -1.172999382019043 time= 0.10862326622009277\n",
      "finished: t= 1200 loss= -1.6421751976013184 loss val= -1.1789960861206055 time= 0.11236572265625\n",
      "finished: t= 1250 loss= -1.705871820449829 loss val= -1.1234285831451416 time= 0.10436367988586426\n",
      "finished: t= 1300 loss= -1.7268872261047363 loss val= -1.189038634300232 time= 0.10288071632385254\n",
      "finished: t= 1350 loss= -1.6830122470855713 loss val= -1.1360480785369873 time= 0.11020112037658691\n",
      "finished: t= 1400 loss= -1.6953788995742798 loss val= -1.1823203563690186 time= 0.11423134803771973\n",
      "finished: t= 1450 loss= -1.8412268161773682 loss val= -1.2116715908050537 time= 0.1053457260131836\n",
      "finished: t= 1500 loss= -1.8630212545394897 loss val= -1.1712841987609863 time= 0.11248064041137695\n",
      "finished: t= 1550 loss= -1.8080552816390991 loss val= -1.1073558330535889 time= 0.11002039909362793\n",
      "finished: t= 1600 loss= -1.8540103435516357 loss val= -1.2090675830841064 time= 0.10189580917358398\n",
      "finished: t= 1650 loss= -1.9119399785995483 loss val= -1.233379602432251 time= 0.10262608528137207\n",
      "finished: t= 1700 loss= -1.4288831949234009 loss val= -1.245405673980713 time= 0.10344910621643066\n",
      "finished: t= 1750 loss= -1.734971284866333 loss val= -1.2719149589538574 time= 0.1108405590057373\n",
      "finished: t= 1800 loss= -1.9463907480239868 loss val= -1.0761065483093262 time= 0.11040568351745605\n",
      "finished: t= 1850 loss= -1.802768349647522 loss val= -1.2582619190216064 time= 0.11046671867370605\n",
      "finished: t= 1900 loss= -1.7601736783981323 loss val= -1.244281530380249 time= 0.10286426544189453\n",
      "finished: t= 1950 loss= -1.9697017669677734 loss val= -1.0540671348571777 time= 0.10775208473205566\n",
      "best val loss= -1.294520616531372\n",
      "\n",
      " > fitting nde\n",
      "all_stats.size() torch.Size([400, 5])\n",
      "finished: t= 0 loss= 16.857412338256836 loss val= 15.210113525390625\n",
      "finished: t= 500 loss= -6.979863166809082 loss val= -6.614414215087891\n",
      "best val loss= -6.675294399261475\n",
      "\n",
      " > fitting proposal\n",
      "Already 100 rejections in rejection sampling!\n",
      "mu= [[0.61044883]]\n",
      "cov= [[0.00161529]]\n",
      "\n",
      "\n",
      "iteration  2\n",
      "# of cpus =  4\n",
      "[ABC] sub-process start!\n",
      "[ABC] sub-process start!\n",
      "[sampling] finished sampling  10\n",
      "[ABC] sub-process start!\n",
      "[sampling] finished sampling  20\n",
      "[ABC] sub-process start!\n",
      "[sampling] finished sampling  30\n",
      "[sampling] finished sampling  40\n",
      "\n",
      " > fitting encoder\n",
      "summary statistic dim = 5 original dim = 5886\n",
      "architecture [5886, 100, 100, 5]\n",
      "validation size= 0.8\n",
      "finished: t= 0 loss= 6.146728992462158e-07 loss val= -3.4188851714134216e-05 time= 0.08898043632507324\n",
      "finished: t= 50 loss= -0.0034153852611780167 loss val= -0.0029028616845607758 time= 0.089974045753479\n",
      "finished: t= 100 loss= -0.0326613150537014 loss val= -0.027103416621685028 time= 0.07687807083129883\n",
      "finished: t= 150 loss= -0.2700411379337311 loss val= -0.20611277222633362 time= 0.08212935924530029\n",
      "finished: t= 200 loss= -0.5658158659934998 loss val= -0.45918652415275574 time= 0.08013272285461426\n",
      "finished: t= 250 loss= -0.746799647808075 loss val= -0.6404773592948914 time= 0.08400022983551025\n",
      "finished: t= 300 loss= -0.9160686731338501 loss val= -0.7138076424598694 time= 0.0833665132522583\n",
      "finished: t= 350 loss= -1.0896356105804443 loss val= -0.8283120393753052 time= 0.08440756797790527\n",
      "finished: t= 400 loss= -1.1955453157424927 loss val= -0.8209944367408752 time= 0.08338558673858643\n",
      "finished: t= 450 loss= -1.1744754314422607 loss val= -0.94577956199646 time= 0.08104181289672852\n",
      "finished: t= 500 loss= -1.1810060739517212 loss val= -0.9769697189331055 time= 0.08434462547302246\n",
      "finished: t= 550 loss= -1.3589218854904175 loss val= -1.0259038209915161 time= 0.08064806461334229\n",
      "finished: t= 600 loss= -1.3915821313858032 loss val= -0.9339190721511841 time= 0.0837717056274414\n",
      "finished: t= 650 loss= -1.500034213066101 loss val= -1.0610506534576416 time= 0.08348894119262695\n",
      "finished: t= 700 loss= -1.4945192337036133 loss val= -1.0651665925979614 time= 0.08426010608673096\n",
      "finished: t= 750 loss= -1.5065568685531616 loss val= -1.0083304643630981 time= 0.0863875150680542\n",
      "finished: t= 800 loss= -1.5224324464797974 loss val= -1.012075424194336 time= 0.08433890342712402\n",
      "finished: t= 850 loss= -1.5084760189056396 loss val= -1.135162115097046 time= 0.07859969139099121\n",
      "finished: t= 900 loss= -1.6393611431121826 loss val= -1.130409836769104 time= 0.07856178283691406\n",
      "finished: t= 950 loss= -1.6795446872711182 loss val= -1.1906566619873047 time= 0.08445477485656738\n"
     ]
    },
    {
     "name": "stdout",
     "output_type": "stream",
     "text": [
      "finished: t= 1000 loss= -1.625431776046753 loss val= -1.1798820495605469 time= 0.0812300443649292\n",
      "finished: t= 1050 loss= -1.5976455211639404 loss val= -1.2111144065856934 time= 0.08568179607391357\n",
      "finished: t= 1100 loss= -1.8130019903182983 loss val= -0.9340564012527466 time= 0.08510279655456543\n",
      "finished: t= 1150 loss= -1.788983941078186 loss val= -1.2046327590942383 time= 0.08528733253479004\n",
      "finished: t= 1200 loss= -1.6441895961761475 loss val= -1.1753109693527222 time= 0.08382773399353027\n",
      "finished: t= 1250 loss= -1.6988707780838013 loss val= -1.0835063457489014 time= 0.08464884757995605\n",
      "finished: t= 1300 loss= -1.7344543933868408 loss val= -1.0835919380187988 time= 0.08320879936218262\n",
      "finished: t= 1350 loss= -1.8487274646759033 loss val= -1.1159909963607788 time= 0.08289468288421631\n",
      "finished: t= 1400 loss= -1.9092693328857422 loss val= -1.1689887046813965 time= 0.08075976371765137\n",
      "finished: t= 1450 loss= -1.9799665212631226 loss val= -1.1177263259887695 time= 0.0798635482788086\n",
      "finished: t= 1500 loss= -1.9424763917922974 loss val= -1.1829701662063599 time= 0.0846930742263794\n",
      "finished: t= 1550 loss= -1.9695030450820923 loss val= -1.2309050559997559 time= 0.08308374881744385\n",
      "finished: t= 1600 loss= -2.104609251022339 loss val= -1.1824016571044922 time= 0.08009636402130127\n",
      "best val loss= -1.2637805938720703\n",
      "\n",
      " > fitting nde\n",
      "all_stats.size() torch.Size([600, 5])\n",
      "finished: t= 0 loss= 13.626148223876953 loss val= 13.452743530273438\n",
      "finished: t= 500 loss= -6.5222086906433105 loss val= -5.717077732086182\n",
      "best val loss= -6.151431560516357\n",
      "\n",
      " > fitting proposal\n",
      "Already 100 rejections in rejection sampling!\n",
      "mu= [[0.60596858]]\n",
      "cov= [[0.00058994]]\n",
      "\n",
      "\n",
      "iteration  3\n",
      "# of cpus =  4\n",
      "[ABC] sub-process start!\n",
      "[ABC] sub-process start!\n",
      "\n",
      "[sampling] finished sampling  10[sampling] finished sampling  20\n",
      "[ABC] sub-process start!\n",
      "[sampling] finished sampling  30\n",
      "[ABC] sub-process start!\n",
      "[sampling] finished sampling  40\n",
      "\n",
      " > fitting encoder\n",
      "summary statistic dim = 5 original dim = 5886\n",
      "architecture [5886, 100, 100, 5]\n",
      "validation size= 0.8\n",
      "finished: t= 0 loss= 4.149973392486572e-06 loss val= 1.1585652828216553e-06 time= 0.07820375760396321\n",
      "finished: t= 50 loss= 1.6763806343078613e-07 loss val= 2.1606683731079102e-07 time= 0.0737322171529134\n",
      "finished: t= 100 loss= -7.450580596923828e-09 loss val= 3.725290298461914e-08 time= 0.0716094970703125\n",
      "finished: t= 150 loss= 7.264316082000732e-08 loss val= 1.2293457984924316e-07 time= 0.07544994354248047\n",
      "finished: t= 200 loss= -3.4924596548080444e-08 loss val= 2.421438694000244e-08 time= 0.07035716374715169\n",
      "best val loss= -7.342547178268433e-06\n",
      "\n",
      " > fitting nde\n",
      "all_stats.size() torch.Size([800, 5])\n",
      "finished: t= 0 loss= 6.712259769439697 loss val= 6.296900272369385\n",
      "finished: t= 500 loss= -15.799697875976562 loss val= -15.55237102508545\n",
      "best val loss= -15.67723560333252\n",
      "\n",
      " > fitting proposal\n",
      "mu= [[0.69488412]]\n",
      "cov= [[0.04417503]]\n",
      "\n",
      "\n",
      "iteration  4\n",
      "# of cpus =  4\n",
      "[ABC] sub-process start!\n",
      "[sampling] finished sampling  10\n",
      "[ABC] sub-process start!\n",
      "[sampling] finished sampling  20\n",
      "[ABC] sub-process start!\n",
      "[sampling] finished sampling  30\n",
      "[ABC] sub-process start!\n",
      "[sampling] finished sampling  40\n",
      "\n",
      " > fitting encoder\n",
      "summary statistic dim = 5 original dim = 5886\n",
      "architecture [5886, 100, 100, 5]\n",
      "validation size= 0.8\n",
      "finished: t= 0 loss= -7.84359872341156e-06 loss val= -1.1594966053962708e-06 time= 0.0719422698020935\n",
      "finished: t= 50 loss= -0.0019755661487579346 loss val= -0.0020071975886821747 time= 0.07248306274414062\n",
      "finished: t= 100 loss= -0.2952541708946228 loss val= -0.26695677638053894 time= 0.07211226224899292\n",
      "finished: t= 150 loss= -0.6441663503646851 loss val= -0.5566014051437378 time= 0.06575983762741089\n",
      "finished: t= 200 loss= -0.8436586856842041 loss val= -0.715901255607605 time= 0.06662249565124512\n",
      "finished: t= 250 loss= -1.0523775815963745 loss val= -0.7583777904510498 time= 0.07441967725753784\n",
      "finished: t= 300 loss= -1.2295254468917847 loss val= -0.9092738628387451 time= 0.0675652027130127\n",
      "finished: t= 350 loss= -1.1805825233459473 loss val= -1.0747052431106567 time= 0.06505697965621948\n",
      "finished: t= 400 loss= -1.3638612031936646 loss val= -1.0575608015060425 time= 0.0648537278175354\n",
      "finished: t= 450 loss= -1.3335988521575928 loss val= -1.0723819732666016 time= 0.06541526317596436\n",
      "finished: t= 500 loss= -1.3948651552200317 loss val= -1.2278870344161987 time= 0.06547027826309204\n",
      "finished: t= 550 loss= -1.4972755908966064 loss val= -1.2852810621261597 time= 0.0691598653793335\n",
      "finished: t= 600 loss= -1.607524037361145 loss val= -1.3252025842666626 time= 0.06918257474899292\n",
      "finished: t= 650 loss= -1.69699227809906 loss val= -1.2779979705810547 time= 0.07889741659164429\n",
      "finished: t= 700 loss= -0.9625388383865356 loss val= -0.9748513698577881 time= 0.06891930103302002\n",
      "finished: t= 750 loss= -1.6690596342086792 loss val= -1.0814858675003052 time= 0.06995713710784912\n",
      "finished: t= 800 loss= -1.7590069770812988 loss val= -1.4216948747634888 time= 0.0688619613647461\n",
      "finished: t= 850 loss= -1.7634888887405396 loss val= -1.4425324201583862 time= 0.07000184059143066\n",
      "finished: t= 900 loss= -1.8937031030654907 loss val= -1.4498262405395508 time= 0.06873643398284912\n",
      "finished: t= 950 loss= -1.883043885231018 loss val= -1.3089865446090698 time= 0.07015585899353027\n",
      "finished: t= 1000 loss= -1.8908787965774536 loss val= -1.2827743291854858 time= 0.07043838500976562\n",
      "finished: t= 1050 loss= -1.9453120231628418 loss val= -1.4908586740493774 time= 0.07803314924240112\n",
      "finished: t= 1100 loss= -1.9454021453857422 loss val= -1.507502555847168 time= 0.0699881911277771\n",
      "finished: t= 1150 loss= -1.973623275756836 loss val= -1.0472707748413086 time= 0.06652343273162842\n",
      "finished: t= 1200 loss= -1.7657711505889893 loss val= -1.5505306720733643 time= 0.0667872428894043\n",
      "finished: t= 1250 loss= -1.7605376243591309 loss val= 0.45047056674957275 time= 0.07207733392715454\n",
      "finished: t= 1300 loss= -2.0537824630737305 loss val= -1.5619025230407715 time= 0.06781274080276489\n",
      "finished: t= 1350 loss= -1.9668354988098145 loss val= -1.5070487260818481 time= 0.06587189435958862\n",
      "finished: t= 1400 loss= -2.124960422515869 loss val= -1.475426197052002 time= 0.06607967615127563\n",
      "finished: t= 1450 loss= -1.8664679527282715 loss val= -1.3932734727859497 time= 0.06888502836227417\n",
      "finished: t= 1500 loss= -1.8580464124679565 loss val= -1.5116617679595947 time= 0.07085686922073364\n",
      "finished: t= 1550 loss= -2.160220146179199 loss val= -1.286820888519287 time= 0.0717882513999939\n",
      "finished: t= 1600 loss= -1.5075020790100098 loss val= -1.3588706254959106 time= 0.06963753700256348\n",
      "finished: t= 1650 loss= -1.8108986616134644 loss val= -1.596278190612793 time= 0.06894832849502563\n",
      "finished: t= 1700 loss= -2.2676050662994385 loss val= -1.6022917032241821 time= 0.06931960582733154\n",
      "finished: t= 1750 loss= -1.8152618408203125 loss val= -1.4752163887023926 time= 0.06429708003997803\n",
      "finished: t= 1800 loss= -2.2384753227233887 loss val= -1.6141027212142944 time= 0.06852167844772339\n",
      "finished: t= 1850 loss= -2.257291555404663 loss val= -1.5638768672943115 time= 0.07449549436569214\n",
      "finished: t= 1900 loss= -1.9589247703552246 loss val= -1.5666682720184326 time= 0.06760334968566895\n",
      "finished: t= 1950 loss= -2.3118882179260254 loss val= -1.3897063732147217 time= 0.06619423627853394\n",
      "finished: t= 2000 loss= -1.5808554887771606 loss val= -1.599302053451538 time= 0.06763434410095215\n",
      "finished: t= 2050 loss= -2.3308258056640625 loss val= -1.610114574432373 time= 0.06569325923919678\n",
      "finished: t= 2100 loss= -2.2960290908813477 loss val= -1.6121177673339844 time= 0.07045185565948486\n",
      "finished: t= 2150 loss= -2.3911783695220947 loss val= -1.381326675415039 time= 0.07029187679290771\n",
      "finished: t= 2200 loss= -1.926424264907837 loss val= -1.4135416746139526 time= 0.07046890258789062\n",
      "finished: t= 2250 loss= -2.34198260307312 loss val= -1.668603539466858 time= 0.06571304798126221\n",
      "finished: t= 2300 loss= -2.316417932510376 loss val= -1.569535255432129 time= 0.06560826301574707\n",
      "finished: t= 2350 loss= -2.1892106533050537 loss val= -1.616673231124878 time= 0.06764578819274902\n",
      "finished: t= 2400 loss= -2.498140811920166 loss val= -1.4988088607788086 time= 0.06815385818481445\n",
      "finished: t= 2450 loss= -1.4974607229232788 loss val= -1.4196698665618896 time= 0.06676828861236572\n"
     ]
    },
    {
     "name": "stdout",
     "output_type": "stream",
     "text": [
      "finished: t= 2500 loss= -2.3657569885253906 loss val= -1.643078327178955 time= 0.12020689249038696\n",
      "finished: t= 2550 loss= -2.2651889324188232 loss val= -1.311786413192749 time= 0.077434241771698\n",
      "finished: t= 2600 loss= -2.3517260551452637 loss val= -1.3370916843414307 time= 0.076385498046875\n",
      "finished: t= 2650 loss= -2.4423012733459473 loss val= -1.6632046699523926 time= 0.07746583223342896\n",
      "finished: t= 2700 loss= -2.1290454864501953 loss val= -1.665994644165039 time= 0.07892131805419922\n",
      "finished: t= 2750 loss= -1.8750003576278687 loss val= -1.681931734085083 time= 0.07997357845306396\n",
      "best val loss= -1.6826225519180298\n",
      "\n",
      " > fitting nde\n",
      "all_stats.size() torch.Size([1000, 5])\n",
      "finished: t= 0 loss= 8.54290771484375 loss val= 8.278451919555664\n",
      "finished: t= 500 loss= -6.822996139526367 loss val= -6.485517978668213\n",
      "best val loss= -6.63377046585083\n",
      "\n",
      " > fitting proposal\n",
      "mu= [[0.65389861]]\n",
      "cov= [[0.00137138]]\n",
      "\n",
      "\n"
     ]
    }
   ],
   "source": [
    "snl2_abc.run()\n"
   ]
  },
  {
   "cell_type": "code",
   "execution_count": 60,
   "metadata": {},
   "outputs": [
    {
     "data": {
      "text/plain": [
       "(array([ 17.,  52.,  95., 191., 220., 227., 134.,  39.,  16.,   9.]),\n",
       " array([0.54362315, 0.56798066, 0.59233817, 0.61669568, 0.64105319,\n",
       "        0.6654107 , 0.68976821, 0.71412572, 0.73848323, 0.76284074,\n",
       "        0.78719825]),\n",
       " <a list of 10 Patch objects>)"
      ]
     },
     "execution_count": 60,
     "metadata": {},
     "output_type": "execute_result"
    },
    {
     "data": {
      "image/png": "[encoded data removed]",
      "text/plain": [
       "<matplotlib.figure.Figure at 0x7f059a0575f8>"
      ]
     },
     "metadata": {
      "needs_background": "light"
     },
     "output_type": "display_data"
    }
   ],
   "source": [
    "# let us check that the prior did not collapse \n",
    "theta = np.empty(1000)\n",
    "for i in range(len(theta)): \n",
    "    theta[i] = snl2_abc.prior()\n",
    "plt.xlim([0,1])\n",
    "plt.hist(theta)"
   ]
  },
  {
   "cell_type": "code",
   "execution_count": 202,
   "metadata": {},
   "outputs": [],
   "source": [
    "# visualize latents s(x)\n",
    "nbins=100\n",
    "stats2plot = []\n",
    "data2plot = []\n",
    "summary2plot = []\n",
    "for i in range(nbins):\n",
    "    mask = (data['X']>i/nbins) & (data['X']<=(i+1)/nbins)\n",
    "    get_stat = snl2_abc.convert_stat(snl2_abc.problem.statistics(data['Y'][mask]))\n",
    "    stats2plot.append(get_stat)\n",
    "    data2plot.append(data['Y'][mask].mean(0))\n",
    "    summary2plot.append(snl2_abc.problem.statistics(data['Y'][mask]))\n",
    "# np.array(stats2plot).shape\n",
    "from sklearn.manifold import TSNE, SpectralEmbedding\n",
    "from sklearn.decomposition import PCA\n",
    "latent_PCA = PCA(n_components=2).fit_transform(np.array(stats2plot).squeeze())\n",
    "latent_TSNE = TSNE(n_components=2).fit_transform(np.array(stats2plot).squeeze())\n",
    "latent_LEM = SpectralEmbedding(n_components=2).fit_transform(np.array(stats2plot).squeeze())\n",
    "\n",
    "\n",
    "summary_PCA = PCA(n_components=2).fit_transform(np.array(summary2plot).squeeze())\n",
    "summary_TSNE = TSNE(n_components=2).fit_transform(np.array(summary2plot).squeeze())\n",
    "summary_LEM = SpectralEmbedding(n_components=2).fit_transform(np.array(summary2plot).squeeze())\n",
    "\n",
    "\n",
    "data_PCA = PCA(n_components=2).fit_transform(np.array(data2plot).squeeze())\n",
    "data_TSNE = TSNE(n_components=2).fit_transform(np.array(data2plot).squeeze())\n",
    "data_LEM = SpectralEmbedding(n_components=2).fit_transform(np.array(data2plot).squeeze())\n",
    "\n",
    "# latent_TSNE = TSNE(n_components=2).fit_transform(np.array(stats2plot).squeeze())\n",
    "\n"
   ]
  },
  {
   "cell_type": "code",
   "execution_count": 219,
   "metadata": {},
   "outputs": [
    {
     "data": {
      "text/plain": [
       "Text(0.32,0.26,'Binned data')"
      ]
     },
     "execution_count": 219,
     "metadata": {},
     "output_type": "execute_result"
    },
    {
     "data": {
      "image/png": "[encoded data removed]",
      "text/plain": [
       "<matplotlib.figure.Figure at 0x7efbb8f83ac8>"
      ]
     },
     "metadata": {
      "needs_background": "light"
     },
     "output_type": "display_data"
    }
   ],
   "source": [
    "import matplotlib.cm as cm\n",
    "fig = plt.figure(figsize=(7,6))\n",
    "\n",
    "# fig.add_axes([0,0,1,1])\n",
    "\n",
    "\n",
    "ax = [fig.add_axes([0.05,0,0.2,0.25]),\n",
    "      fig.add_axes([0.3,0,0.2,0.25]),\n",
    "      fig.add_axes([0.55,0,0.2,0.25]),\n",
    "     fig.add_axes([0.05,0.35,0.2,0.25]),\n",
    "     fig.add_axes([0.3,0.35,0.2,0.25]),\n",
    "      fig.add_axes([0.55,0.35,0.2,0.25]),\n",
    "     fig.add_axes([0.05,0.7,0.2,0.25]),\n",
    "     fig.add_axes([0.3,0.7,0.2,0.25]),\n",
    "      fig.add_axes([0.55,0.7,0.2,0.25]),\n",
    "     fig.add_axes([0.85,0.3,0.1,0.4]),]\n",
    "\n",
    "ax[0].scatter(*data_PCA.T,color=cm.rainbow(np.linspace(0,1,nbins)),s=5)\n",
    "ax[1].scatter(*data_TSNE.T,color=cm.rainbow(np.linspace(0,1,nbins)),s=5)\n",
    "ax[2].scatter(*data_LEM.T,color=cm.rainbow(np.linspace(0,1,nbins)),s=5)\n",
    "\n",
    "ax[3].scatter(*summary_PCA.T,color=cm.rainbow(np.linspace(0,1,nbins)),s=5)\n",
    "ax[4].scatter(*summary_TSNE.T,color=cm.rainbow(np.linspace(0,1,nbins)),s=5)\n",
    "ax[5].scatter(*summary_LEM.T,color=cm.rainbow(np.linspace(0,1,nbins)),s=5)\n",
    "\n",
    "ax[6].scatter(*latent_PCA.T,color=cm.rainbow(np.linspace(0,1,nbins)),s=5)\n",
    "ax[7].scatter(*latent_TSNE.T,color=cm.rainbow(np.linspace(0,1,nbins)),s=5)\n",
    "ax[8].scatter(*latent_LEM.T,color=cm.rainbow(np.linspace(0,1,nbins)),s=5)\n",
    "\n",
    "for a in [ax[0],ax[3],ax[6]]:\n",
    "    a.set_xlabel('PCA 1')\n",
    "    a.set_ylabel('PCA 2')\n",
    "    \n",
    "for a in [ax[1],ax[4],ax[7]]:\n",
    "    a.set_xlabel('t-SNE 1')\n",
    "    a.set_ylabel('t-SNE 2')\n",
    "    \n",
    "for a in [ax[2],ax[5],ax[8]]:\n",
    "    a.set_xlabel('L-eigen 1')\n",
    "    a.set_ylabel('L-eigen 2')\n",
    "    \n",
    "for a in ax[:-1]:\n",
    "    a.set_xticks([])\n",
    "    a.set_yticks([])\n",
    "    \n",
    "ax[9].imshow(np.repeat(np.linspace(0,1,160).reshape(1,-1),10,axis=0).T,cmap=cm.rainbow)\n",
    "ax[9].set_ylabel(\"Position in VR, cm\")\n",
    "\n",
    "fig.text(0.27,0.96,'Sufficient statistics',fontsize=14)\n",
    "fig.text(0.27,0.61,'Summary statistics',fontsize=14)\n",
    "fig.text(0.32,0.26,'Binned data',fontsize=14)\n",
    "\n",
    "# help(plt.imshow)\n",
    "# plt.scatter(*X_embedded[int(nbins*20/160):int(nbins*60/160)].T,marker='x',color='k') #late part of the corridor marked"
   ]
  },
  {
   "cell_type": "code",
   "execution_count": 135,
   "metadata": {},
   "outputs": [
    {
     "data": {
      "text/plain": [
       "<matplotlib.collections.PathCollection at 0x7f05428c1f60>"
      ]
     },
     "execution_count": 135,
     "metadata": {},
     "output_type": "execute_result"
    },
    {
     "data": {
      "image/png": "[encoded data removed]",
      "text/plain": [
       "<matplotlib.figure.Figure at 0x7f0569b2d748>"
      ]
     },
     "metadata": {
      "needs_background": "light"
     },
     "output_type": "display_data"
    }
   ],
   "source": [
    "import matplotlib.cm as cm\n",
    "plt.scatter(*X_embedded.T,color=cm.rainbow(np.linspace(0,1,nbins)))\n",
    "# plt.scatter(*X_embedded[int(nbins*20/160):int(nbins*60/160)].T,marker='x',color='k') #late part of the corridor marked"
   ]
  },
  {
   "cell_type": "code",
   "execution_count": 172,
   "metadata": {},
   "outputs": [
    {
     "name": "stdout",
     "output_type": "stream",
     "text": [
      "torch.Size([1000, 1])\n"
     ]
    },
    {
     "data": {
      "text/plain": [
       "tensor(2.3482, grad_fn=<SubBackward0>)"
      ]
     },
     "execution_count": 172,
     "metadata": {},
     "output_type": "execute_result"
    }
   ],
   "source": [
    "# calculate MI using all generated subsamples\n",
    "all_stats = torch.tensor(np.vstack(snl2_abc.all_stats[0:snl2_abc.l+1])).float()\n",
    "all_samples = torch.tensor(np.vstack(snl2_abc.all_samples[0:snl2_abc.l+1])).float()\n",
    "print(all_samples.shape)\n",
    "snl2_abc.vae_net.MI(all_stats,all_samples,n=100) # n here is the number of shuffles"
   ]
  },
  {
   "cell_type": "code",
   "execution_count": 173,
   "metadata": {},
   "outputs": [
    {
     "name": "stdout",
     "output_type": "stream",
     "text": [
      "torch.Size([200, 1])\n"
     ]
    },
    {
     "data": {
      "text/plain": [
       "tensor(2.3747, grad_fn=<SubBackward0>)"
      ]
     },
     "execution_count": 173,
     "metadata": {},
     "output_type": "execute_result"
    }
   ],
   "source": [
    "# calculate MI using the last generated subsamples\n",
    "all_stats = torch.tensor(np.vstack(snl2_abc.all_stats[snl2_abc.l:snl2_abc.l+1])).float()\n",
    "all_samples = torch.tensor(np.vstack(snl2_abc.all_samples[snl2_abc.l:snl2_abc.l+1])).float()\n",
    "print(all_samples.shape)\n",
    "snl2_abc.vae_net.MI(all_stats,all_samples,n=100) # n here is the number of shuffles"
   ]
  },
  {
   "cell_type": "code",
   "execution_count": 221,
   "metadata": {},
   "outputs": [
    {
     "data": {
      "text/plain": [
       "3.4191872469068434"
      ]
     },
     "execution_count": 221,
     "metadata": {},
     "output_type": "execute_result"
    }
   ],
   "source": [
    "2.37/np.log(2)"
   ]
  },
  {
   "cell_type": "markdown",
   "metadata": {},
   "source": [
    "# MINE for comparison"
   ]
  },
  {
   "cell_type": "code",
   "execution_count": 175,
   "metadata": {},
   "outputs": [],
   "source": [
    "from mine import train_MINE # load another implementation, the one I used for PLoS"
   ]
  },
  {
   "cell_type": "code",
   "execution_count": 201,
   "metadata": {},
   "outputs": [
    {
     "data": {
      "text/plain": [
       "array(0.88089633, dtype=float32)"
      ]
     },
     "execution_count": 201,
     "metadata": {},
     "output_type": "execute_result"
    }
   ],
   "source": [
    "train_MINE(data['Y'][:,:Nvar], x=torch.tensor(data['X'][:]).float(), \n",
    "           H=500, lr=0.01, batches=1, n_epoch=2000, device = torch.device(\"cuda:0\"))"
   ]
  },
  {
   "cell_type": "code",
   "execution_count": 222,
   "metadata": {},
   "outputs": [
    {
     "data": {
      "text/plain": [
       "1.269571635982288"
      ]
     },
     "execution_count": 222,
     "metadata": {},
     "output_type": "execute_result"
    }
   ],
   "source": [
    "0.88/np.log(2)"
   ]
  },
  {
   "cell_type": "code",
   "execution_count": null,
   "metadata": {},
   "outputs": [],
   "source": []
  }
 ],
 "metadata": {
  "kernelspec": {
   "display_name": "Python 3",
   "language": "python",
   "name": "python3"
  },
  "language_info": {
   "codemirror_mode": {
    "name": "ipython",
    "version": 3
   },
   "file_extension": ".py",
   "mimetype": "text/x-python",
   "name": "python",
   "nbconvert_exporter": "python",
   "pygments_lexer": "ipython3",
   "version": "3.6.9"
  }
 },
 "nbformat": 4,
 "nbformat_minor": 4
}
