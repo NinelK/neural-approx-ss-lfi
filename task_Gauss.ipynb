{
 "cells": [
  {
   "cell_type": "markdown",
   "metadata": {},
   "source": [
    "## Import"
   ]
  },
  {
   "cell_type": "code",
   "execution_count": 61,
   "metadata": {},
   "outputs": [
    {
     "name": "stdout",
     "output_type": "stream",
     "text": [
      "The autoreload extension is already loaded. To reload it, use:\n",
      "  %reload_ext autoreload\n"
     ]
    }
   ],
   "source": [
    "import os, sys, inspect, time\n",
    "\n",
    "import numpy as np\n",
    "import torch \n",
    "import matplotlib.pyplot as plt\n",
    "torch.multiprocessing.set_sharing_strategy('file_system')\n",
    "\n",
    "import discrepancy, visualization\n",
    "from algorithms import ABC_algorithms, TPABC, SMCABC, SMC2ABC, SNLABC, SNL2ABC\n",
    "import distributions \n",
    "import scipy.stats as stats\n",
    "\n",
    "import utils_os, utils_math\n",
    "\n",
    "%load_ext autoreload\n",
    "%autoreload 2"
   ]
  },
  {
   "cell_type": "markdown",
   "metadata": {},
   "source": [
    "## Problem Definition"
   ]
  },
  {
   "cell_type": "code",
   "execution_count": 88,
   "metadata": {},
   "outputs": [],
   "source": [
    "from problems.ABC_problems import ABC_Problem\n",
    "\n",
    "class Gauss_Problem(ABC_Problem): #problem from Fig.4A in PLoS CB Copula paper\n",
    "    \n",
    "    def __init__(self, N=100, n=100):\n",
    "        \n",
    "        self.N = N # number of posterior samples\n",
    "        self.n = n # length of the data vector x = {x_1, ..., x_n}\n",
    "        self.D = 5 # dimensionality of data samples\n",
    "#         self.d = 5 # dims of sufficient statistics? d=2K? This argument is just not used anywhere... great\n",
    "        self.prior_args = np.array([[0,1]]) # these are bounds on theta (on X in our case: [0,1])\n",
    "        \n",
    "        self.K = 1 # number of thetas\n",
    "        self.stat = 'raw' # raw means that sufficient statistics is unknown (I guess). y_obs = data_obs\n",
    "        \n",
    "#         self.data_obs = self.y_obs #important that first dim=N & y_dim = product of these dims\n",
    "        \n",
    "        self.is_batch_sampling_supported = False # (unfinished feature, so keep False for now) speed up rejection sampling\n",
    "    \n",
    "    def get_true_theta(self):\n",
    "        pass # does not matter, as the result goes into 'statistics', where theta is currently not used\n",
    "\n",
    "    def sample_from_prior(self,size=1):\n",
    "        return np.random.rand(size)\n",
    "    \n",
    "    def simulator(self, theta):\n",
    "        rho = -0.1 + (0.1+0.1)*theta #problem from Fig.4A in PLoS CB Copula paper, linearly changing rho\n",
    "        samples = np.zeros((theta.size,self.n,self.D))\n",
    "        for i,r in enumerate(rho):\n",
    "            samples[i] = np.random.multivariate_normal(np.zeros(self.D),np.ones((self.D,self.D))*r +\\\n",
    "                                                np.eye(self.D)*(1-r),size=self.n)\n",
    "        return samples.reshape((-1,self.D)) # [number of theta samples (normally 1) x self.n] x self.D\n",
    "\n",
    "    # B. correlation between latent\n",
    "    def _ss_corr(self, Z):\n",
    "        V = np.mat(Z).T * np.mat(Z) / Z.shape[0]\n",
    "        (d,d) = V.shape\n",
    "        upper_tri_elements = V[np.triu_indices(d, k=1)]\n",
    "        stat = np.array(upper_tri_elements)\n",
    "        return stat\n",
    "    \n",
    "    def statistics(self, data, theta=None):\n",
    "        if self.stat == 'raw':\n",
    "            # (correlation) as summary statistics (all margianls are N(0,1) here, don't matter)\n",
    "            stat = self._ss_corr(data)\n",
    "            return stat\n",
    "        else:\n",
    "            raise NotImplementedError('No ground truth statistics')"
   ]
  },
  {
   "cell_type": "code",
   "execution_count": 89,
   "metadata": {},
   "outputs": [],
   "source": [
    "DIR = 'results/Gauss'\n",
    "\n",
    "problem = Gauss_Problem()\n",
    "theta = problem.sample_from_prior(size=100) # sample some thetas\n",
    "problem.data_obs = problem.simulator(theta) # generate 'true' observations"
   ]
  },
  {
   "cell_type": "code",
   "execution_count": 90,
   "metadata": {},
   "outputs": [],
   "source": [
    "### Sequential Neural Likelihood + \n",
    "hyperparams = ABC_algorithms.Hyperparams()\n",
    "hyperparams.save_dir = DIR\n",
    "hyperparams.device = 'cuda:0'\n",
    "hyperparams.num_sim = 1000                        # number of simulations\n",
    "hyperparams.L = 5                                # number of learning rounds\n",
    "hyperparams.hidden_ratio = 0.1                   # dimensionality of S(x)\n",
    "hyperparams.type = 'plain'                       # the network architecture of S(x), use CNN here\n",
    "hyperparams.estimator = 'NWJ'                    # MI estimator; JSD or DC, see the paper\n",
    "hyperparams.nde = 'MDN'                          # nde; MAF (D>1) or MDN (D=1)\n",
    "\n",
    "snl2_abc = SNL2ABC.SNL2_ABC(problem, discrepancy=discrepancy.eculidean_dist, hyperparams=hyperparams)\n"
   ]
  },
  {
   "cell_type": "code",
   "execution_count": null,
   "metadata": {
    "scrolled": true
   },
   "outputs": [
    {
     "name": "stdout",
     "output_type": "stream",
     "text": [
      "iteration  0\n",
      "# of cpus =  4\n",
      "[ABC] sub-process start![ABC] sub-process start!\n",
      "[ABC] sub-process start!\n",
      "[ABC] sub-process start!\n",
      "\n",
      "[sampling] finished sampling  10\n",
      "[sampling] finished sampling  20\n",
      "[sampling] finished sampling  30\n",
      "[sampling] finished sampling  40\n",
      "\n",
      " > fitting encoder\n",
      "summary statistic dim = 1 original dim = 10\n",
      "architecture [10, 100, 100, 1]\n",
      "validation size= 0.8\n",
      "finished: t= 0 loss= 0.4512431025505066 loss val= 0.4431148171424866 time= 0.06801033020019531\n",
      "finished: t= 50 loss= 0.23496423661708832 loss val= 0.23178434371948242 time= 0.05666184425354004\n",
      "finished: t= 100 loss= 0.0321354866027832 loss val= 0.030360519886016846 time= 0.05690574645996094\n",
      "finished: t= 150 loss= 0.0012177228927612305 loss val= 0.0010892152786254883 time= 0.058159828186035156\n",
      "finished: t= 200 loss= 0.00012099742889404297 loss val= 0.00016957521438598633 time= 0.05959892272949219\n",
      "finished: t= 250 loss= -0.0002522468566894531 loss val= -9.989738464355469e-05 time= 0.058319807052612305\n",
      "finished: t= 300 loss= -0.0005317926406860352 loss val= -0.0003121495246887207 time= 0.05965375900268555\n",
      "finished: t= 350 loss= -0.0008711814880371094 loss val= -0.0006011128425598145 time= 0.05699586868286133\n",
      "finished: t= 400 loss= -0.001374959945678711 loss val= -0.0008924603462219238 time= 0.06887054443359375\n",
      "finished: t= 450 loss= -0.002215564250946045 loss val= -0.0014376640319824219 time= 0.06575608253479004\n",
      "finished: t= 500 loss= -0.0033878087997436523 loss val= -0.002167940139770508 time= 0.062497615814208984\n",
      "finished: t= 550 loss= -0.004817664623260498 loss val= -0.0029369592666625977 time= 0.06261515617370605\n",
      "finished: t= 600 loss= -0.007312953472137451 loss val= -0.004828393459320068 time= 0.061383724212646484\n",
      "finished: t= 650 loss= -0.013643443584442139 loss val= -0.008708298206329346 time= 0.05599784851074219\n",
      "finished: t= 700 loss= -0.028759479522705078 loss val= -0.019823193550109863 time= 0.05586099624633789\n",
      "finished: t= 750 loss= -0.05650538206100464 loss val= -0.03978836536407471 time= 0.05654764175415039\n",
      "finished: t= 800 loss= -0.13322168588638306 loss val= -0.0975651741027832 time= 0.057555437088012695\n",
      "finished: t= 850 loss= -0.32961463928222656 loss val= -0.22180092334747314 time= 0.05642080307006836\n",
      "finished: t= 900 loss= -0.50992351770401 loss val= -0.3025686740875244 time= 0.05619692802429199\n",
      "finished: t= 950 loss= -0.5676270723342896 loss val= -0.30541181564331055 time= 0.05624699592590332\n",
      "finished: t= 1000 loss= -0.5998416543006897 loss val= -0.28805726766586304 time= 0.05855822563171387\n",
      "finished: t= 1050 loss= -0.6311614513397217 loss val= -0.2623370885848999 time= 0.055745601654052734\n",
      "finished: t= 1100 loss= -0.6676697731018066 loss val= -0.2870813012123108 time= 0.055382490158081055\n",
      "best val loss= -0.32069694995880127\n",
      "\n",
      " > fitting nde\n",
      "all_stats.size() torch.Size([200, 1])\n",
      "finished: t= 0 loss= 3.5819454193115234 loss val= 4.0923919677734375\n",
      "finished: t= 250 loss= 1.6282886266708374 loss val= 1.7636514902114868\n",
      "best val loss= 1.6261924505233765\n",
      "\n",
      " > fitting proposal\n",
      "mu= [[0.56350396]]\n",
      "cov= [[0.02593685]]\n",
      "\n",
      "\n",
      "iteration  1\n",
      "# of cpus =  4\n",
      "[ABC] sub-process start![ABC] sub-process start!\n",
      "[ABC] sub-process start!\n",
      "\n",
      "[ABC] sub-process start!\n",
      "[sampling] finished sampling  10\n",
      "[sampling] finished sampling  20\n",
      "[sampling] finished sampling  30\n",
      "[sampling] finished sampling  40\n",
      "\n",
      " > fitting encoder\n",
      "summary statistic dim = 1 original dim = 10\n",
      "architecture [10, 100, 100, 1]\n",
      "validation size= 0.8\n",
      "finished: t= 0 loss= 0.3175119161605835 loss val= 0.3141215443611145 time= 0.22018933296203613\n",
      "finished: t= 50 loss= 0.17811116576194763 loss val= 0.17574438452720642 time= 0.11065816879272461\n",
      "finished: t= 100 loss= 0.027582824230194092 loss val= 0.023828446865081787 time= 0.10698747634887695\n",
      "finished: t= 150 loss= 9.965896606445312e-05 loss val= 0.00023663043975830078 time= 0.1098024845123291\n",
      "finished: t= 200 loss= -0.00032961368560791016 loss val= -0.00015437602996826172 time= 0.18617630004882812\n",
      "finished: t= 250 loss= -0.000670015811920166 loss val= -0.0004476308822631836 time= 0.18670415878295898\n",
      "finished: t= 300 loss= -0.001052558422088623 loss val= -0.000784754753112793 time= 0.18150877952575684\n",
      "finished: t= 350 loss= -0.0014792084693908691 loss val= -0.0011591911315917969 time= 0.14371919631958008\n",
      "finished: t= 400 loss= -0.0019393563270568848 loss val= -0.0015153288841247559 time= 0.1414928436279297\n",
      "finished: t= 450 loss= -0.0026063919067382812 loss val= -0.002076566219329834 time= 0.13442230224609375\n",
      "finished: t= 500 loss= -0.003952622413635254 loss val= -0.00321120023727417 time= 0.13312053680419922\n",
      "finished: t= 550 loss= -0.005533158779144287 loss val= -0.004514932632446289 time= 0.13718366622924805\n",
      "finished: t= 600 loss= -0.009302735328674316 loss val= -0.007611513137817383 time= 0.10725784301757812\n",
      "finished: t= 650 loss= -0.020560741424560547 loss val= -0.01732635498046875 time= 0.10425758361816406\n",
      "finished: t= 700 loss= -0.04657423496246338 loss val= -0.038977622985839844 time= 0.11484026908874512\n",
      "finished: t= 750 loss= -0.14173829555511475 loss val= -0.12161391973495483 time= 0.11563611030578613\n",
      "finished: t= 800 loss= -0.334886372089386 loss val= -0.28838270902633667 time= 0.11214709281921387\n",
      "finished: t= 850 loss= -0.4457814693450928 loss val= -0.35928988456726074 time= 0.11591958999633789\n",
      "finished: t= 900 loss= -0.47388505935668945 loss val= -0.3690405488014221 time= 0.11661577224731445\n",
      "finished: t= 950 loss= -0.49075067043304443 loss val= -0.37389999628067017 time= 0.11570930480957031\n",
      "finished: t= 1000 loss= -0.5104725956916809 loss val= -0.3686080574989319 time= 0.10712718963623047\n",
      "finished: t= 1050 loss= -0.5126598477363586 loss val= -0.3680480718612671 time= 0.11580586433410645\n",
      "finished: t= 1100 loss= -0.5187001824378967 loss val= -0.38607335090637207 time= 0.11262011528015137\n",
      "finished: t= 1150 loss= -0.526470959186554 loss val= -0.3780505657196045 time= 0.11545038223266602\n",
      "finished: t= 1200 loss= -0.5342455506324768 loss val= -0.3752480745315552 time= 0.1130070686340332\n",
      "finished: t= 1250 loss= -0.5345794558525085 loss val= -0.38384270668029785 time= 0.11537456512451172\n",
      "finished: t= 1300 loss= -0.5440713167190552 loss val= -0.394311785697937 time= 0.11600041389465332\n",
      "finished: t= 1350 loss= -0.5473026037216187 loss val= -0.3805973529815674 time= 0.11840343475341797\n",
      "finished: t= 1400 loss= -0.5439915060997009 loss val= -0.38804328441619873 time= 0.11675810813903809\n",
      "finished: t= 1450 loss= -0.5533953309059143 loss val= -0.39096498489379883 time= 0.10655498504638672\n",
      "finished: t= 1500 loss= -0.5597648620605469 loss val= -0.3734480142593384 time= 0.10987067222595215\n",
      "finished: t= 1550 loss= -0.5599254965782166 loss val= -0.38950514793395996 time= 0.11652755737304688\n",
      "finished: t= 1600 loss= -0.5714869499206543 loss val= -0.3833197355270386 time= 0.11728358268737793\n",
      "finished: t= 1650 loss= -0.5718517899513245 loss val= -0.3826340436935425 time= 0.11550664901733398\n",
      "finished: t= 1700 loss= -0.5725340247154236 loss val= -0.40995633602142334 time= 0.11236095428466797\n",
      "finished: t= 1750 loss= -0.5723484754562378 loss val= -0.4017683267593384 time= 0.11505126953125\n",
      "finished: t= 1800 loss= -0.5792125463485718 loss val= -0.38424646854400635 time= 0.11551547050476074\n",
      "best val loss= -0.4107654094696045\n",
      "\n",
      " > fitting nde\n",
      "all_stats.size() torch.Size([400, 1])\n",
      "finished: t= 0 loss= 4.96926736831665 loss val= 5.409900665283203\n",
      "finished: t= 250 loss= 2.3058841228485107 loss val= 2.433666229248047\n",
      "finished: t= 500 loss= 1.8673067092895508 loss val= 1.9784132242202759\n",
      "best val loss= 1.9679936170578003\n",
      "\n",
      " > fitting proposal\n",
      "mu= [[0.55576791]]\n",
      "cov= [[0.02656724]]\n",
      "\n",
      "\n",
      "iteration  2\n",
      "# of cpus =  4\n",
      "[ABC] sub-process start!\n",
      "[ABC] sub-process start!\n",
      "[ABC] sub-process start![ABC] sub-process start!\n",
      "\n",
      "[sampling] finished sampling  10\n",
      "[sampling] finished sampling  20\n",
      "[sampling] finished sampling  30\n",
      "[sampling] finished sampling  40\n",
      "\n",
      " > fitting encoder\n",
      "summary statistic dim = 1 original dim = 10\n",
      "architecture [10, 100, 100, 1]\n",
      "validation size= 0.8\n",
      "finished: t= 0 loss= 0.5344083309173584 loss val= 0.5277509689331055 time= 0.09890532493591309\n",
      "finished: t= 50 loss= 0.008313536643981934 loss val= 0.007880032062530518 time= 0.08365559577941895\n",
      "finished: t= 100 loss= -0.0003387331962585449 loss val= -0.00021141767501831055 time= 0.08478391170501709\n"
     ]
    },
    {
     "name": "stdout",
     "output_type": "stream",
     "text": [
      "finished: t= 150 loss= -0.002224862575531006 loss val= -0.002016305923461914 time= 0.08416867256164551\n",
      "finished: t= 200 loss= -0.005363106727600098 loss val= -0.0048296451568603516 time= 0.0814894437789917\n",
      "finished: t= 250 loss= -0.010997891426086426 loss val= -0.008672118186950684 time= 0.0850914716720581\n",
      "finished: t= 300 loss= -0.02395397424697876 loss val= -0.021562278270721436 time= 0.08448505401611328\n",
      "finished: t= 350 loss= -0.06310147047042847 loss val= -0.05587661266326904 time= 0.08506786823272705\n",
      "finished: t= 400 loss= -0.14949029684066772 loss val= -0.12987226247787476 time= 0.08125793933868408\n",
      "finished: t= 450 loss= -0.2588040232658386 loss val= -0.2288362979888916 time= 0.0869894027709961\n",
      "finished: t= 500 loss= -0.3028631806373596 loss val= -0.2749411463737488 time= 0.0777961015701294\n",
      "finished: t= 550 loss= -0.4019509553909302 loss val= -0.28867441415786743 time= 0.08203208446502686\n",
      "finished: t= 600 loss= -0.37573695182800293 loss val= -0.29481446743011475 time= 0.07715165615081787\n",
      "finished: t= 650 loss= -0.4398457407951355 loss val= -0.3024752140045166 time= 0.07661378383636475\n",
      "finished: t= 700 loss= -0.41181063652038574 loss val= -0.3015572428703308 time= 0.08520054817199707\n",
      "finished: t= 750 loss= -0.46172869205474854 loss val= -0.298789918422699 time= 0.0768592357635498\n",
      "finished: t= 800 loss= -0.4465031027793884 loss val= -0.31033241748809814 time= 0.08782947063446045\n",
      "finished: t= 850 loss= -0.48361217975616455 loss val= -0.30753856897354126 time= 0.08561909198760986\n",
      "finished: t= 900 loss= -0.5064559578895569 loss val= -0.30338847637176514 time= 0.07803606986999512\n",
      "finished: t= 950 loss= -0.4561145305633545 loss val= -0.2946031093597412 time= 0.07745099067687988\n",
      "finished: t= 1000 loss= -0.42370468378067017 loss val= -0.30302929878234863 time= 0.08434784412384033\n",
      "finished: t= 1050 loss= -0.5352798700332642 loss val= -0.301779568195343 time= 0.08135449886322021\n",
      "finished: t= 1100 loss= -0.46262311935424805 loss val= -0.29654085636138916 time= 0.08095204830169678\n",
      "finished: t= 1150 loss= -0.5454097986221313 loss val= -0.3007248640060425 time= 0.08484137058258057\n",
      "best val loss= -0.3168730139732361\n",
      "\n",
      " > fitting nde\n",
      "all_stats.size() torch.Size([600, 1])\n",
      "finished: t= 0 loss= 12.544684410095215 loss val= 11.837285995483398\n",
      "finished: t= 250 loss= 2.564958333969116 loss val= 2.5319619178771973\n",
      "finished: t= 500 loss= 1.365028738975525 loss val= 1.3276952505111694\n",
      "finished: t= 750 loss= 1.3212474584579468 loss val= 1.291866421699524\n",
      "best val loss= 1.2811673879623413\n",
      "\n",
      " > fitting proposal\n",
      "mu= [[0.54093209]]\n",
      "cov= [[0.0299019]]\n",
      "\n",
      "\n",
      "iteration  3\n",
      "# of cpus =  4\n",
      "[ABC] sub-process start!\n",
      "[ABC] sub-process start!\n",
      "[ABC] sub-process start![sampling] finished sampling \n",
      " 10\n",
      "[ABC] sub-process start!\n",
      "[sampling] finished sampling  20\n",
      "[sampling] finished sampling  30\n",
      "[sampling] finished sampling  40\n",
      "\n",
      " > fitting encoder\n",
      "summary statistic dim = 1 original dim = 10\n",
      "architecture [10, 100, 100, 1]\n",
      "validation size= 0.8\n",
      "finished: t= 0 loss= 0.5051430463790894 loss val= 0.5002880096435547 time= 0.07714565594991048\n",
      "finished: t= 50 loss= 0.0014603734016418457 loss val= 0.0013605356216430664 time= 0.08273013432820638\n",
      "finished: t= 100 loss= 8.893013000488281e-05 loss val= 8.893013000488281e-05 time= 0.07657114664713542\n",
      "finished: t= 150 loss= -5.7220458984375e-05 loss val= -6.759166717529297e-05 time= 0.0735623836517334\n",
      "finished: t= 200 loss= -0.00011181831359863281 loss val= -0.0001081228256225586 time= 0.07407228151957194\n",
      "finished: t= 250 loss= -0.00016164779663085938 loss val= -0.0001456737518310547 time= 0.07542308171590169\n",
      "finished: t= 300 loss= -0.00020819902420043945 loss val= -0.0001914501190185547 time= 0.06940054893493652\n",
      "finished: t= 350 loss= -0.0002485513687133789 loss val= -0.0002645254135131836 time= 0.07487924893697102\n",
      "finished: t= 400 loss= -0.0003165602684020996 loss val= -0.0003339052200317383 time= 0.07449642817179362\n",
      "finished: t= 450 loss= -0.0005100369453430176 loss val= -0.0004590153694152832 time= 0.07562740643819173\n",
      "finished: t= 500 loss= -0.000620424747467041 loss val= -0.000632166862487793 time= 0.0714876651763916\n",
      "finished: t= 550 loss= -0.0009987354278564453 loss val= -0.0008930563926696777 time= 0.07124114036560059\n",
      "finished: t= 600 loss= -0.001434922218322754 loss val= -0.0013321638107299805 time= 0.0759123166402181\n",
      "finished: t= 650 loss= -0.0022802352905273438 loss val= -0.002295076847076416 time= 0.07687910397847493\n",
      "finished: t= 700 loss= -0.012452244758605957 loss val= -0.010958433151245117 time= 0.07600641250610352\n",
      "finished: t= 750 loss= -0.16238701343536377 loss val= -0.1811755895614624 time= 0.07697637875874837\n",
      "finished: t= 800 loss= -0.3415446877479553 loss val= -0.3060053586959839 time= 0.07723267873128255\n",
      "finished: t= 850 loss= -0.3191531300544739 loss val= -0.32499998807907104 time= 0.0776662826538086\n",
      "finished: t= 900 loss= -0.44033998250961304 loss val= -0.33592498302459717 time= 0.08637483914693196\n",
      "finished: t= 950 loss= -0.42269134521484375 loss val= -0.3443848490715027 time= 0.07802279790242513\n",
      "finished: t= 1000 loss= -0.33607208728790283 loss val= -0.3375017046928406 time= 0.07533955574035645\n",
      "finished: t= 1050 loss= -0.4473324418067932 loss val= -0.3545398712158203 time= 0.0710744857788086\n",
      "finished: t= 1100 loss= -0.3947436809539795 loss val= -0.34470677375793457 time= 0.07458957036336263\n",
      "finished: t= 1150 loss= -0.4309843182563782 loss val= -0.342132031917572 time= 0.07575925191243489\n",
      "finished: t= 1200 loss= -0.39418697357177734 loss val= -0.3592172861099243 time= 0.07106653849283855\n",
      "finished: t= 1250 loss= -0.4163925051689148 loss val= -0.3519861698150635 time= 0.07061266899108887\n",
      "finished: t= 1300 loss= -0.47074711322784424 loss val= -0.35747307538986206 time= 0.07722910245259602\n",
      "finished: t= 1350 loss= -0.4683176279067993 loss val= -0.3555023670196533 time= 0.07401037216186523\n",
      "finished: t= 1400 loss= -0.38344907760620117 loss val= -0.35879749059677124 time= 0.07693719863891602\n",
      "finished: t= 1450 loss= -0.4540318250656128 loss val= -0.36406898498535156 time= 0.07687695821126302\n",
      "finished: t= 1500 loss= -0.42301154136657715 loss val= -0.3715164065361023 time= 0.07258319854736328\n",
      "finished: t= 1550 loss= -0.48798811435699463 loss val= -0.3665434718132019 time= 0.07853492101033528\n",
      "finished: t= 1600 loss= -0.44322991371154785 loss val= -0.3660573959350586 time= 0.07696493466695149\n",
      "finished: t= 1650 loss= -0.46413135528564453 loss val= -0.37666022777557373 time= 0.07387272516886394\n",
      "finished: t= 1700 loss= -0.45748114585876465 loss val= -0.3712972402572632 time= 0.07664815584818523\n",
      "finished: t= 1750 loss= -0.5150928497314453 loss val= -0.3752438426017761 time= 0.07454188664754231\n",
      "finished: t= 1800 loss= -0.4789958596229553 loss val= -0.3757822513580322 time= 0.07501649856567383\n",
      "finished: t= 1850 loss= -0.5245531797409058 loss val= -0.3714901804924011 time= 0.07297484079996745\n",
      "finished: t= 1900 loss= -0.4623972177505493 loss val= -0.37883156538009644 time= 0.07409159342447917\n",
      "finished: t= 1950 loss= -0.4189262390136719 loss val= -0.37413549423217773 time= 0.07750733693440755\n",
      "finished: t= 2000 loss= -0.4976412057876587 loss val= -0.37171226739883423 time= 0.07661128044128418\n",
      "finished: t= 2050 loss= -0.4555724859237671 loss val= -0.38009804487228394 time= 0.07700165112813313\n",
      "finished: t= 2100 loss= -0.5104876160621643 loss val= -0.3847092390060425 time= 0.07223391532897949\n",
      "finished: t= 2150 loss= -0.48280858993530273 loss val= -0.38597583770751953 time= 0.07291150093078613\n",
      "finished: t= 2200 loss= -0.4663301110267639 loss val= -0.3917011618614197 time= 0.07672667503356934\n",
      "finished: t= 2250 loss= -0.5338916182518005 loss val= -0.3907155394554138 time= 0.07726963361104329\n",
      "finished: t= 2300 loss= -0.4836307764053345 loss val= -0.38891690969467163 time= 0.07683928807576497\n",
      "finished: t= 2350 loss= -0.5064704418182373 loss val= -0.3954181671142578 time= 0.07266426086425781\n",
      "finished: t= 2400 loss= -0.4548126459121704 loss val= -0.39527058601379395 time= 0.07547887166341145\n",
      "finished: t= 2450 loss= -0.490200400352478 loss val= -0.40974175930023193 time= 0.0763851801554362\n",
      "finished: t= 2500 loss= -0.5002071857452393 loss val= -0.4011061191558838 time= 0.07358352343241374\n",
      "finished: t= 2550 loss= -0.5822411179542542 loss val= -0.3906782865524292 time= 0.07633105913798015\n"
     ]
    },
    {
     "name": "stdout",
     "output_type": "stream",
     "text": [
      "finished: t= 2600 loss= -0.5245935916900635 loss val= -0.4061705470085144 time= 0.07843359311421712\n",
      "finished: t= 2650 loss= -0.5443696975708008 loss val= -0.39917945861816406 time= 0.0763412316640218\n",
      "finished: t= 2700 loss= -0.514560341835022 loss val= -0.3953237533569336 time= 0.07272505760192871\n",
      "finished: t= 2750 loss= -0.46671736240386963 loss val= -0.4009997844696045 time= 0.07854596773783366\n",
      "best val loss= -0.42073941230773926\n",
      "\n",
      " > fitting nde\n",
      "all_stats.size() torch.Size([800, 1])\n",
      "finished: t= 0 loss= 8.653718948364258 loss val= 8.759210586547852\n",
      "finished: t= 250 loss= 1.2972582578659058 loss val= 1.2583656311035156\n",
      "finished: t= 500 loss= 0.898655891418457 loss val= 0.8384626507759094\n",
      "best val loss= 0.8365119099617004\n",
      "\n",
      " > fitting proposal\n",
      "mu= [[0.5581055]]\n",
      "cov= [[0.02306068]]\n",
      "\n",
      "\n",
      "iteration  4\n",
      "# of cpus =  4\n",
      "[ABC] sub-process start![ABC] sub-process start!\n",
      "\n",
      "[ABC] sub-process start![ABC] sub-process start!\n",
      "\n",
      "[sampling] finished sampling  10\n",
      "[sampling] finished sampling  20\n",
      "[sampling] finished sampling  30\n",
      "[sampling] finished sampling  40\n",
      "\n",
      " > fitting encoder\n",
      "summary statistic dim = 1 original dim = 10\n",
      "architecture [10, 100, 100, 1]\n",
      "validation size= 0.8\n",
      "finished: t= 0 loss= 0.4487573206424713 loss val= 0.4449760913848877 time= 0.0694350004196167\n",
      "finished: t= 50 loss= -0.0020879507064819336 loss val= -0.0018300414085388184 time= 0.07171744108200073\n",
      "finished: t= 100 loss= -0.017534852027893066 loss val= -0.01654726266860962 time= 0.0721941590309143\n",
      "finished: t= 150 loss= -0.10365444421768188 loss val= -0.12040403485298157 time= 0.06631338596343994\n",
      "finished: t= 200 loss= -0.2675526738166809 loss val= -0.2917797863483429 time= 0.07281070947647095\n",
      "finished: t= 250 loss= -0.3161509037017822 loss val= -0.3260731101036072 time= 0.06820666790008545\n",
      "finished: t= 300 loss= -0.3505628705024719 loss val= -0.3366246819496155 time= 0.06866705417633057\n",
      "finished: t= 350 loss= -0.36741161346435547 loss val= -0.3478519916534424 time= 0.07304751873016357\n",
      "finished: t= 400 loss= -0.36749792098999023 loss val= -0.34794944524765015 time= 0.06914007663726807\n",
      "finished: t= 450 loss= -0.3387804627418518 loss val= -0.35252252221107483 time= 0.07315033674240112\n",
      "finished: t= 500 loss= -0.42543792724609375 loss val= -0.35276660323143005 time= 0.07407963275909424\n",
      "finished: t= 550 loss= -0.40931564569473267 loss val= -0.3572056293487549 time= 0.07308816909790039\n",
      "finished: t= 600 loss= -0.46116483211517334 loss val= -0.3623421788215637 time= 0.07202303409576416\n",
      "finished: t= 650 loss= -0.3471742272377014 loss val= -0.3554277718067169 time= 0.06680905818939209\n",
      "finished: t= 700 loss= -0.3985370397567749 loss val= -0.3640322983264923 time= 0.0716015100479126\n",
      "finished: t= 750 loss= -0.4908566474914551 loss val= -0.3569239377975464 time= 0.07464414834976196\n",
      "finished: t= 800 loss= -0.4801780581474304 loss val= -0.3606278598308563 time= 0.06846517324447632\n",
      "finished: t= 850 loss= -0.4989047050476074 loss val= -0.36008644104003906 time= 0.0718201994895935\n",
      "finished: t= 900 loss= -0.3871654272079468 loss val= -0.3642205595970154 time= 0.07393026351928711\n",
      "best val loss= -0.3703720271587372\n",
      "\n",
      " > fitting nde\n",
      "all_stats.size() torch.Size([1000, 1])\n",
      "finished: t= 0 loss= 12.165197372436523 loss val= 12.450872421264648\n",
      "finished: t= 250 loss= 2.549811601638794 loss val= 2.578627347946167\n",
      "finished: t= 500 loss= 1.241007685661316 loss val= 1.177545428276062\n",
      "best val loss= 1.171254277229309\n",
      "\n",
      " > fitting proposal\n"
     ]
    }
   ],
   "source": [
    "snl2_abc.run()\n"
   ]
  },
  {
   "cell_type": "code",
   "execution_count": 84,
   "metadata": {},
   "outputs": [
    {
     "data": {
      "text/plain": [
       "(array([  4.,  17.,  73., 195., 256., 245., 155.,  45.,   9.,   1.]),\n",
       " array([0.2288048 , 0.29247159, 0.35613838, 0.41980518, 0.48347197,\n",
       "        0.54713877, 0.61080556, 0.67447235, 0.73813915, 0.80180594,\n",
       "        0.86547273]),\n",
       " <a list of 10 Patch objects>)"
      ]
     },
     "execution_count": 84,
     "metadata": {},
     "output_type": "execute_result"
    },
    {
     "data": {
      "image/png": "[encoded data removed]",
      "text/plain": [
       "<matplotlib.figure.Figure at 0x7fe52c134ef0>"
      ]
     },
     "metadata": {
      "needs_background": "light"
     },
     "output_type": "display_data"
    }
   ],
   "source": [
    "# let us check that the prior did not collapse \n",
    "theta = np.empty(1000)\n",
    "for i in range(len(theta)): \n",
    "    theta[i] = snl2_abc.prior()\n",
    "plt.xlim([0,1])\n",
    "plt.hist(theta)"
   ]
  },
  {
   "cell_type": "code",
   "execution_count": 116,
   "metadata": {},
   "outputs": [
    {
     "name": "stdout",
     "output_type": "stream",
     "text": [
      "torch.Size([1000, 1])\n"
     ]
    },
    {
     "data": {
      "text/plain": [
       "tensor(0.4097, grad_fn=<SubBackward0>)"
      ]
     },
     "execution_count": 116,
     "metadata": {},
     "output_type": "execute_result"
    }
   ],
   "source": [
    "# calculate MI using all generated subsamples\n",
    "all_stats = torch.tensor(np.vstack(snl2_abc.all_stats[0:snl2_abc.l+1])).float()\n",
    "all_samples = torch.tensor(np.vstack(snl2_abc.all_samples[0:snl2_abc.l+1])).float()\n",
    "print(all_samples.shape)\n",
    "snl2_abc.vae_net.MI(all_stats,all_samples,n=100) # n here is the number of shuffles"
   ]
  },
  {
   "cell_type": "code",
   "execution_count": 117,
   "metadata": {},
   "outputs": [
    {
     "name": "stdout",
     "output_type": "stream",
     "text": [
      "torch.Size([200, 1])\n"
     ]
    },
    {
     "data": {
      "text/plain": [
       "tensor(0.2970, grad_fn=<SubBackward0>)"
      ]
     },
     "execution_count": 117,
     "metadata": {},
     "output_type": "execute_result"
    }
   ],
   "source": [
    "# calculate MI using the last generated subsamples\n",
    "all_stats = torch.tensor(np.vstack(snl2_abc.all_stats[snl2_abc.l:snl2_abc.l+1])).float()\n",
    "all_samples = torch.tensor(np.vstack(snl2_abc.all_samples[snl2_abc.l:snl2_abc.l+1])).float()\n",
    "print(all_samples.shape)\n",
    "snl2_abc.vae_net.MI(all_stats,all_samples,n=100) # n here is the number of shuffles"
   ]
  },
  {
   "cell_type": "code",
   "execution_count": 87,
   "metadata": {},
   "outputs": [],
   "source": [
    "# see Fig.4A in PLoS CB paper for correct answers. Should be roughly 1 bit for 10 dims (D), 0.7 bits for 5 dims\n",
    "# DV looks alright! \n",
    "# DC just always returns 0.9something, whatever the data"
   ]
  },
  {
   "cell_type": "code",
   "execution_count": 113,
   "metadata": {},
   "outputs": [
    {
     "data": {
      "image/png": "[encoded data removed]",
      "text/plain": [
       "<matplotlib.figure.Figure at 0x7fe52d5464a8>"
      ]
     },
     "metadata": {
      "needs_background": "light"
     },
     "output_type": "display_data"
    }
   ],
   "source": [
    "# visualize latents s(x)\n",
    "nbins=100\n",
    "stats2plot = []\n",
    "data2plot = []\n",
    "summary2plot = []\n",
    "for i in range(nbins):\n",
    "    theta = np.repeat(i/(nbins-1),100) #100 simulations\n",
    "    generated = snl2_abc.problem.simulator(theta)\n",
    "    get_stat = snl2_abc.convert_stat(snl2_abc.problem.statistics(generated))\n",
    "    stats2plot.append(get_stat)\n",
    "    data2plot.append(generated.mean(0))\n",
    "    summary2plot.append(snl2_abc.problem.statistics(generated))\n",
    "    \n",
    "plt.plot(np.array(stats2plot).squeeze())\n",
    "# np.array(stats2plot).shape\n",
    "# from sklearn.manifold import TSNE, SpectralEmbedding\n",
    "# from sklearn.decomposition import PCA\n",
    "# latent_PCA = PCA(n_components=2).fit_transform(np.array(stats2plot).reshape(-1,1))\n",
    "# latent_TSNE = TSNE(n_components=2).fit_transform(np.array(stats2plot).squeeze())\n",
    "# latent_LEM = SpectralEmbedding(n_components=2).fit_transform(np.array(stats2plot).squeeze())\n",
    "\n",
    "\n",
    "summary_PCA = PCA(n_components=2).fit_transform(np.array(summary2plot).squeeze())\n",
    "summary_TSNE = TSNE(n_components=2).fit_transform(np.array(summary2plot).squeeze())\n",
    "summary_LEM = SpectralEmbedding(n_components=2).fit_transform(np.array(summary2plot).squeeze())\n",
    "\n",
    "\n",
    "data_PCA = PCA(n_components=2).fit_transform(np.array(data2plot).squeeze())\n",
    "data_TSNE = TSNE(n_components=2).fit_transform(np.array(data2plot).squeeze())\n",
    "data_LEM = SpectralEmbedding(n_components=2).fit_transform(np.array(data2plot).squeeze())\n",
    "\n",
    "\n"
   ]
  },
  {
   "cell_type": "code",
   "execution_count": 115,
   "metadata": {},
   "outputs": [
    {
     "data": {
      "text/plain": [
       "Text(0.32,0.26,'Binned data')"
      ]
     },
     "execution_count": 115,
     "metadata": {},
     "output_type": "execute_result"
    },
    {
     "data": {
      "image/png": "[encoded data removed]",
      "text/plain": [
       "<matplotlib.figure.Figure at 0x7fe3ee8be940>"
      ]
     },
     "metadata": {
      "needs_background": "light"
     },
     "output_type": "display_data"
    }
   ],
   "source": [
    "import matplotlib.cm as cm\n",
    "fig = plt.figure(figsize=(7,6))\n",
    "\n",
    "# fig.add_axes([0,0,1,1])\n",
    "\n",
    "\n",
    "ax = [fig.add_axes([0.05,0,0.2,0.25]),\n",
    "      fig.add_axes([0.3,0,0.2,0.25]),\n",
    "      fig.add_axes([0.55,0,0.2,0.25]),\n",
    "     fig.add_axes([0.05,0.35,0.2,0.25]),\n",
    "     fig.add_axes([0.3,0.35,0.2,0.25]),\n",
    "      fig.add_axes([0.55,0.35,0.2,0.25]),\n",
    "     fig.add_axes([0.05,0.7,0.2,0.25]),\n",
    "     fig.add_axes([0.3,0.7,0.2,0.25]),\n",
    "      fig.add_axes([0.55,0.7,0.2,0.25]),\n",
    "     fig.add_axes([0.85,0.3,0.1,0.4]),]\n",
    "\n",
    "ax[0].scatter(*data_PCA.T,color=cm.rainbow(np.linspace(0,1,nbins)),s=5)\n",
    "ax[1].scatter(*data_TSNE.T,color=cm.rainbow(np.linspace(0,1,nbins)),s=5)\n",
    "ax[2].scatter(*data_LEM.T,color=cm.rainbow(np.linspace(0,1,nbins)),s=5)\n",
    "\n",
    "ax[3].scatter(*summary_PCA.T,color=cm.rainbow(np.linspace(0,1,nbins)),s=5)\n",
    "ax[4].scatter(*summary_TSNE.T,color=cm.rainbow(np.linspace(0,1,nbins)),s=5)\n",
    "ax[5].scatter(*summary_LEM.T,color=cm.rainbow(np.linspace(0,1,nbins)),s=5)\n",
    "\n",
    "# ax[6].scatter(*latent_PCA.T,color=cm.rainbow(np.linspace(0,1,nbins)),s=5)\n",
    "# ax[7].scatter(*latent_TSNE.T,color=cm.rainbow(np.linspace(0,1,nbins)),s=5)\n",
    "# ax[8].scatter(*latent_LEM.T,color=cm.rainbow(np.linspace(0,1,nbins)),s=5)\n",
    "\n",
    "for a in [ax[0],ax[3],ax[6]]:\n",
    "    a.set_xlabel('PCA 1')\n",
    "    a.set_ylabel('PCA 2')\n",
    "    \n",
    "for a in [ax[1],ax[4],ax[7]]:\n",
    "    a.set_xlabel('t-SNE 1')\n",
    "    a.set_ylabel('t-SNE 2')\n",
    "    \n",
    "for a in [ax[2],ax[5],ax[8]]:\n",
    "    a.set_xlabel('L-eigen 1')\n",
    "    a.set_ylabel('L-eigen 2')\n",
    "    \n",
    "for a in ax[:-1]:\n",
    "    a.set_xticks([])\n",
    "    a.set_yticks([])\n",
    "    \n",
    "ax[9].imshow(np.repeat(np.linspace(0,1,160).reshape(1,-1),10,axis=0).T,cmap=cm.rainbow)\n",
    "ax[9].set_ylabel(\"Position in VR, cm\")\n",
    "\n",
    "fig.text(0.27,0.96,'Sufficient statistics',fontsize=14)\n",
    "fig.text(0.27,0.61,'Summary statistics',fontsize=14)\n",
    "fig.text(0.32,0.26,'Binned data',fontsize=14)\n",
    "\n",
    "# help(plt.imshow)\n",
    "# plt.scatter(*X_embedded[int(nbins*20/160):int(nbins*60/160)].T,marker='x',color='k') #late part of the corridor marked"
   ]
  },
  {
   "cell_type": "code",
   "execution_count": null,
   "metadata": {},
   "outputs": [],
   "source": []
  }
 ],
 "metadata": {
  "kernelspec": {
   "display_name": "Python 3",
   "language": "python",
   "name": "python3"
  },
  "language_info": {
   "codemirror_mode": {
    "name": "ipython",
    "version": 3
   },
   "file_extension": ".py",
   "mimetype": "text/x-python",
   "name": "python",
   "nbconvert_exporter": "python",
   "pygments_lexer": "ipython3",
   "version": "3.6.9"
  }
 },
 "nbformat": 4,
 "nbformat_minor": 4
}
